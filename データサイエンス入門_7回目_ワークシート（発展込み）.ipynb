{
  "nbformat": 4,
  "nbformat_minor": 0,
  "metadata": {
    "colab": {
      "provenance": [],
      "include_colab_link": true
    },
    "kernelspec": {
      "name": "python3",
      "display_name": "Python 3"
    },
    "language_info": {
      "name": "python"
    }
  },
  "cells": [
    {
      "cell_type": "markdown",
      "metadata": {
        "id": "view-in-github",
        "colab_type": "text"
      },
      "source": [
        "<a href=\"https://colab.research.google.com/github/Tomato-in-Japan/Subject_Fri1/blob/Homeworks/%E3%83%87%E3%83%BC%E3%82%BF%E3%82%B5%E3%82%A4%E3%82%A8%E3%83%B3%E3%82%B9%E5%85%A5%E9%96%80_7%E5%9B%9E%E7%9B%AE_%E3%83%AF%E3%83%BC%E3%82%AF%E3%82%B7%E3%83%BC%E3%83%88%EF%BC%88%E7%99%BA%E5%B1%95%E8%BE%BC%E3%81%BF%EF%BC%89.ipynb\" target=\"_parent\"><img src=\"https://colab.research.google.com/assets/colab-badge.svg\" alt=\"Open In Colab\"/></a>"
      ]
    },
    {
      "cell_type": "markdown",
      "source": [
        "# 学習目標\n",
        "　データサイエンスでは多量なデータを操作して統計処理や機械学習による何らかの手法を用いて分析を行います。これまでにデータの操作について学んできました。ここからはデータを分析する手法について学びます。この授業回では、データサイエンスで一般的に行われる教師あり学習の手法のひとつである重回帰を学びます。重回帰はすでに実装が一般的に行われており、ライブラリとして提供されています。本ワークシートでは、ライブラリを活用して重回帰による分析ができるようになることを目標とします。\n",
        "今回の実習は例題はなく、課題のみから構成されます。重回帰の理論については講義ビデオを見て学んでください。ライブラリの活用については使用するメソッド名などのキーワードを提示しますので、ネット上には解説記事が多数ありますので検索して各自調べながら取り組んでください。"
      ],
      "metadata": {
        "id": "e5ogjY_QXbjs"
      }
    },
    {
      "cell_type": "markdown",
      "source": [
        "# 1. 導入"
      ],
      "metadata": {
        "id": "DiTdNBUCnItQ"
      }
    },
    {
      "cell_type": "markdown",
      "source": [
        "## 1-1. 概要"
      ],
      "metadata": {
        "id": "jaPWGbkjntgW"
      }
    },
    {
      "cell_type": "markdown",
      "source": [
        "健康に関わるデータから重回帰による分析を試みます。\n",
        "データの項目は「体重」と「摂取したカロリー」と「お酒を飲んだ量」とします。\n",
        "このデータから、「ある日の体重」は「前の日の体重」「摂取したカロリー」「お酒を飲んだ量」から求められると仮定して重回帰のモデルを構築して性能を評価します。"
      ],
      "metadata": {
        "id": "3TGjqQUhoHO9"
      }
    },
    {
      "cell_type": "markdown",
      "source": [
        "## 1-2. ライブラリのインポート"
      ],
      "metadata": {
        "id": "90MjLVRdn1G6"
      }
    },
    {
      "cell_type": "markdown",
      "source": [
        "分析に必要なライブラリをインポートします。\n",
        "必要なライブラリは「データの読込・操作を行うライブラリ」「重回帰のライブラリ」です。\n",
        "\n",
        " - データの読込・操作を行うライブラリ：Pandas\n",
        " - 重回帰のライブラリ：Scikit-learnのLinearRegression\n",
        "\n",
        "\n",
        "```python\n",
        "# データの加工・処理・分析ライブラリ\n",
        "import pandas as pd\n",
        "\n",
        "# 重回帰のライブラリのインポート\n",
        "from sklearn.linear_model import LinearRegression\n",
        "```"
      ],
      "metadata": {
        "id": "GpgTbcvmciXw"
      }
    },
    {
      "cell_type": "code",
      "source": [
        "import pandas as pd\n",
        "from sklearn.linear_model import LinearRegression"
      ],
      "metadata": {
        "id": "lWMwE3LhczUA"
      },
      "execution_count": null,
      "outputs": []
    },
    {
      "cell_type": "markdown",
      "source": [
        "# 2. データ"
      ],
      "metadata": {
        "id": "6btD5TKkX0Vr"
      }
    },
    {
      "cell_type": "markdown",
      "source": [
        "今回使うデータはポータルからファイルを配布しています。\n",
        "ファイル名は「health_data.csv」です。\n",
        "\n",
        "まずは、csvファイルを読み込んでデータを操作できるようにしましょう。\n",
        "データを操作できるようにするには、csvファイルを pandas の DaraFrame として読み込みます。読み込み方法はこれまでの授業で扱っていますので必要に応じて動画やワークシートを参照してください。\n",
        "\n",
        "データの項目は、前述の通りに、前日の体重、摂取カロリー、飲酒量、体重です。\n",
        "csvファイルのカラム名は「前日の体重」から順番に previous, calory, drinking, weight です。"
      ],
      "metadata": {
        "id": "_AZuucK7pUMj"
      }
    },
    {
      "cell_type": "code",
      "source": [
        "# CSVデータを pandas の DataFrame オブジェクト df として読み込み\n",
        "df = pd.read_csv('health_data.csv')\n"
      ],
      "metadata": {
        "id": "am22n-Sadk_R"
      },
      "execution_count": null,
      "outputs": []
    },
    {
      "cell_type": "markdown",
      "source": [
        "まずは df の中身を確認してみましょう。以下のセルにdfの中身を表示するプログラムを記述して実行して下さい。"
      ],
      "metadata": {
        "id": "n-h1qxQStxeG"
      }
    },
    {
      "cell_type": "markdown",
      "source": [
        "## 2-1 データを表示"
      ],
      "metadata": {
        "id": "PGowP2c-cVoH"
      }
    },
    {
      "cell_type": "code",
      "source": [
        "# df を表示\n",
        "print(df)"
      ],
      "metadata": {
        "id": "3B4od6siu4Yb",
        "colab": {
          "base_uri": "https://localhost:8080/"
        },
        "outputId": "140ad7cd-a192-4481-e5f1-099b21e944bd"
      },
      "execution_count": null,
      "outputs": [
        {
          "output_type": "stream",
          "name": "stdout",
          "text": [
            "     previous  calory  drinking  weight\n",
            "0          48    2000       300      50\n",
            "1          50    1600         0      52\n",
            "2          52    1400       100      51\n",
            "3          51    2500       600      52\n",
            "4          50    2200         0      53\n",
            "..        ...     ...       ...     ...\n",
            "104        52    1689       550      52\n",
            "105        52    1307         0      52\n",
            "106        52    1206         0      51\n",
            "107        51    1525         0      51\n",
            "108        51    1464         0      51\n",
            "\n",
            "[109 rows x 4 columns]\n"
          ]
        }
      ]
    },
    {
      "cell_type": "markdown",
      "source": [
        "実行すると「109 rows × 4 columns」が末尾にあることを確認します。確認できればOKです。これで109行、4列のデータであることが分かります。\n",
        "それぞれの列が前日の体重（previous）、摂取カロリー（calory）、飲酒量（drinking）、体重（weight）と対応しています。\n",
        "日毎の各項目の値を表しており、109日分のデータが入っていることがわかります。"
      ],
      "metadata": {
        "id": "3O5BX-YxvC1j"
      }
    },
    {
      "cell_type": "markdown",
      "source": [
        "## 2-2 説明変数・目的変数の設定"
      ],
      "metadata": {
        "id": "gQ30hFpOU1qC"
      }
    },
    {
      "cell_type": "markdown",
      "source": [
        "今回、ある日の体重を、「前の日の体重」と「摂取したカロリー」と「お酒を飲んだ量」から求められると仮定して重回帰による分析を試みます。\n",
        "\n",
        "具体的な重回帰のモデル式は下記を想定します。\n",
        "$$\n",
        "y_{体重} = \\beta_0 + \\beta_{前日の体重} x_{前日の体重} + \\beta_{摂取カロリー} x_{摂取カロリー} + \\beta_{飲酒量} x_{飲酒量}\n",
        "$$\n",
        "\n",
        "説明変数は下記となります\n",
        " - 「前の日の体重」　previous\n",
        " - 「摂取したカロリー」　calory\n",
        " - 「お酒を飲んだ量」　drinking\n",
        "\n",
        "目的変数は下記となります\n",
        " - 「体重」　weight\n",
        "\n",
        "読み込んだデータを操作して説明変数と目的変数を設定するプログラムを記述して実行してください。ここでプログラム上の説明変数の変数名は x 、目的変数の変数名は y とします。"
      ],
      "metadata": {
        "id": "wkCjmgRDVGuM"
      }
    },
    {
      "cell_type": "code",
      "source": [
        "# 目的変数xにdfの「weight」\n",
        "# 説明変数yにdfの「previous」、「calory」、「drinking」を指定\n",
        "X_p = df['previous'].values\n",
        "X_c = df['calory'].values\n",
        "X_d = df['drinking'].values\n",
        "X = df\n",
        "X = df.drop('weight',axis=1)\n",
        "y=df['weight'].values\n",
        "print(X)\n",
        "print(y)"
      ],
      "metadata": {
        "id": "Syi7abjKXT7J",
        "colab": {
          "base_uri": "https://localhost:8080/"
        },
        "outputId": "7fbf9963-1e34-4297-ea2e-e3e397c1201d"
      },
      "execution_count": null,
      "outputs": [
        {
          "output_type": "stream",
          "name": "stdout",
          "text": [
            "     previous  calory  drinking\n",
            "0          48    2000       300\n",
            "1          50    1600         0\n",
            "2          52    1400       100\n",
            "3          51    2500       600\n",
            "4          50    2200         0\n",
            "..        ...     ...       ...\n",
            "104        52    1689       550\n",
            "105        52    1307         0\n",
            "106        52    1206         0\n",
            "107        51    1525         0\n",
            "108        51    1464         0\n",
            "\n",
            "[109 rows x 3 columns]\n",
            "[50 52 51 52 53 52 52 51 52 53 52 53 52 51 53 52 50 50 51 51 51 49 50 50\n",
            " 50 51 51 50 49 50 52 51 51 51 51 51 50 52 52 52 53 55 56 56 56 56 56 55\n",
            " 55 54 54 54 53 53 52 52 53 52 52 51 51 51 51 52 52 52 53 53 53 52 53 51\n",
            " 50 50 49 50 49 50 50 50 50 51 51 52 52 52 51 51 52 51 52 52 53 53 53 52\n",
            " 52 51 53 52 50 51 51 52 52 52 51 51 51]\n"
          ]
        }
      ]
    },
    {
      "cell_type": "markdown",
      "source": [
        "## 2-3 相関係数の確認"
      ],
      "metadata": {
        "id": "Aqd3txkWC611"
      }
    },
    {
      "cell_type": "markdown",
      "source": [
        "説明変数について調べる。説明変数の変数同士の相関係数を求めましょう。corrメソッドにより求めることができます。"
      ],
      "metadata": {
        "id": "fN915nRMDOHC"
      }
    },
    {
      "cell_type": "code",
      "source": [
        "soukan=df.corr()\n",
        "print(soukan)"
      ],
      "metadata": {
        "id": "LCB5Xa09T7H-",
        "colab": {
          "base_uri": "https://localhost:8080/"
        },
        "outputId": "bbc4e896-3879-4a75-c429-27f6d32cbbc9"
      },
      "execution_count": null,
      "outputs": [
        {
          "output_type": "stream",
          "name": "stdout",
          "text": [
            "          previous    calory  drinking    weight\n",
            "previous  1.000000 -0.241715 -0.111570  0.814457\n",
            "calory   -0.241715  1.000000  0.239899  0.207838\n",
            "drinking -0.111570  0.239899  1.000000  0.131203\n",
            "weight    0.814457  0.207838  0.131203  1.000000\n"
          ]
        }
      ]
    },
    {
      "cell_type": "markdown",
      "source": [
        "得られた結果を見て、重回帰のモデルの係数の有意性の観点から何が言えるかを下記のセルに記述しましょう。\n",
        "\n",
        "$$\n",
        "y_{体重} = \\beta_0 + \\beta_{前日の体重} x_{前日の体重} + \\beta_{摂取カロリー} x_{摂取カロリー} + \\beta_{飲酒量} x_{飲酒量}\n",
        "$$\n"
      ],
      "metadata": {
        "id": "awVOE40XZHRu"
      }
    },
    {
      "cell_type": "markdown",
      "source": [
        "\n",
        "1.   体重と前の日の体重の正の相関が大きく、\n",
        "2.   飲酒量と摂取カロリーでは小さな正の相関がある。\n",
        "3.   前日の体重と飲酒量、接種カロリーでは、負の小さい相関がある\n",
        "\n"
      ],
      "metadata": {
        "id": "puOfuuK-ZQdd"
      }
    },
    {
      "cell_type": "markdown",
      "source": [
        "# 3 モデルの構築と評価"
      ],
      "metadata": {
        "id": "Fz5aqrmqGpC5"
      }
    },
    {
      "cell_type": "markdown",
      "source": [
        "読み込んだデータに対して重回帰のモデルを構築します。ここからが機械学習（重回帰）の本番です。\n",
        "\n",
        "機械学習ライブラリ「scikit-learn」を利用する事により、「重回帰」を簡単に実装する事が出来ます。（scikit-learnの読み方はサイキットラーン）\n",
        "\n",
        "それでは、説明変数と目的変数を設定して学習を実行しましょう。プログラムは、LinearRegressionを初期化して、学習はfitメソッドを利用することにより実行できます。\n",
        "\n",
        "$$\n",
        "y_{体重} = \\beta_0 + \\beta_{前日の体重} x_{前日の体重} + \\beta_{摂取カロリー} x_{摂取カロリー} + \\beta_{飲酒量} x_{飲酒量}\n",
        "$$"
      ],
      "metadata": {
        "id": "VFXg3F_mG2fO"
      }
    },
    {
      "cell_type": "code",
      "source": [
        "y_1=LinearRegression()\n",
        "y_1.fit(X,y)\n",
        "print(y_1.coef_)"
      ],
      "metadata": {
        "id": "iiSSgNzoRD4n",
        "colab": {
          "base_uri": "https://localhost:8080/"
        },
        "outputId": "d6dcb1b3-9018-424f-ba62-3718a1e66fde"
      },
      "execution_count": null,
      "outputs": [
        {
          "output_type": "stream",
          "name": "stdout",
          "text": [
            "[0.89836309 0.00169585 0.00103089]\n"
          ]
        }
      ]
    },
    {
      "cell_type": "markdown",
      "source": [
        "以上で学習は完了です。\n",
        "\n",
        "次に、学習結果の評価を行います。score メソッドを利用する事により決定係数を計算できます。\n",
        "\n",
        "決定係数はデータに対する、推定されたモデルの当てはまりの良さ（度合い）を表し、$0$ から $1$ までの値をとります。$1$ に近いほど、当てはまりが良いです。\n",
        "\n",
        "ここで、「決定係数はいくつ以上なら良いのか？」という疑問が生じますが、この問いに対する絶対的な回答は存在しません。\n",
        "\n",
        "ここでは、参考として「$R^2 \\geq 0.8$：精度良い」、「$R^2 \\geq 0.5$：精度やや良い」、「$R^2 < 0.5$：精度良くない」という基準を紹介します（cf. https://istat.co.jp/ta_commentary/multiple_02 ）。\n",
        "\n",
        "では、実際に決定係数を計算してみましょう。"
      ],
      "metadata": {
        "id": "e0KyuU6gPKiT"
      }
    },
    {
      "cell_type": "code",
      "source": [
        "print(y_1.score(X,y))"
      ],
      "metadata": {
        "id": "khWjQo2VRR9Y",
        "colab": {
          "base_uri": "https://localhost:8080/"
        },
        "outputId": "8f115dc9-b3c8-4ca5-abac-fc4216073c21"
      },
      "execution_count": null,
      "outputs": [
        {
          "output_type": "stream",
          "name": "stdout",
          "text": [
            "0.8554319110013583\n"
          ]
        }
      ]
    },
    {
      "cell_type": "markdown",
      "source": [
        "また、偏回帰係数を確認しましょう。偏回帰係数は coef_ と intercept_ から参照できます。"
      ],
      "metadata": {
        "id": "ovskmuR6Tjev"
      }
    },
    {
      "cell_type": "code",
      "source": [
        "print(y_1.coef_)\n",
        "print(y_1.intercept_)"
      ],
      "metadata": {
        "id": "QWkz8h4zRZ5-",
        "colab": {
          "base_uri": "https://localhost:8080/"
        },
        "outputId": "ec70085d-fae5-4f8b-d968-4ec1dab38719"
      },
      "execution_count": null,
      "outputs": [
        {
          "output_type": "stream",
          "name": "stdout",
          "text": [
            "[0.89836309 0.00169585 0.00103089]\n",
            "2.571795527798983\n"
          ]
        }
      ]
    },
    {
      "cell_type": "markdown",
      "source": [
        "発展課題"
      ],
      "metadata": {
        "id": "AtYME97NyhSI"
      }
    },
    {
      "cell_type": "code",
      "source": [
        "import matplotlib.pyplot as plt\n",
        "print(\"Y=weight,X=previous\")\n",
        "x1 = df['previous'].values\n",
        "y1=df['weight'].values\n",
        "plt.scatter(x1,y1)\n"
      ],
      "metadata": {
        "colab": {
          "base_uri": "https://localhost:8080/",
          "height": 467
        },
        "id": "03iC20hawtM8",
        "outputId": "0084f768-349d-4b06-87ee-0e19ff774db2"
      },
      "execution_count": 33,
      "outputs": [
        {
          "output_type": "stream",
          "name": "stdout",
          "text": [
            "Y=weight,X=previous\n"
          ]
        },
        {
          "output_type": "execute_result",
          "data": {
            "text/plain": [
              "<matplotlib.collections.PathCollection at 0x7f17d79e4ee0>"
            ]
          },
          "metadata": {},
          "execution_count": 33
        },
        {
          "output_type": "display_data",
          "data": {
            "text/plain": [
              "<Figure size 640x480 with 1 Axes>"
            ],
            "image/png": "[encoded data removed]"
          },
          "metadata": {}
        }
      ]
    },
    {
      "cell_type": "code",
      "source": [
        "print(\"Y=weight,X=calory\")\n",
        "x2 = df['calory'].values\n",
        "y2=df['weight'].values\n",
        "plt.scatter(x2,y2)\n",
        "plt.show"
      ],
      "metadata": {
        "colab": {
          "base_uri": "https://localhost:8080/",
          "height": 467
        },
        "id": "ziv0KDJxynDg",
        "outputId": "68e993de-c46f-4ddc-e35d-4eb4561bcd83"
      },
      "execution_count": 31,
      "outputs": [
        {
          "output_type": "stream",
          "name": "stdout",
          "text": [
            "Y=weight,X=calory\n"
          ]
        },
        {
          "output_type": "execute_result",
          "data": {
            "text/plain": [
              "<function matplotlib.pyplot.show(close=None, block=None)>"
            ]
          },
          "metadata": {},
          "execution_count": 31
        },
        {
          "output_type": "display_data",
          "data": {
            "text/plain": [
              "<Figure size 640x480 with 1 Axes>"
            ],
            "image/png": "[encoded data removed]"
          },
          "metadata": {}
        }
      ]
    },
    {
      "cell_type": "code",
      "source": [
        "print(\"Y=weight,X=drinking\")\n",
        "x3 = df['drinking'].values\n",
        "y3=df['weight'].values\n",
        "plt.scatter(x3,y3)\n",
        "plt.show"
      ],
      "metadata": {
        "colab": {
          "base_uri": "https://localhost:8080/",
          "height": 467
        },
        "id": "c9lC67YZynTU",
        "outputId": "c32f33a5-36b6-46da-a727-63d70854e529"
      },
      "execution_count": 32,
      "outputs": [
        {
          "output_type": "stream",
          "name": "stdout",
          "text": [
            "Y=weight,X=drinking\n"
          ]
        },
        {
          "output_type": "execute_result",
          "data": {
            "text/plain": [
              "<function matplotlib.pyplot.show(close=None, block=None)>"
            ]
          },
          "metadata": {},
          "execution_count": 32
        },
        {
          "output_type": "display_data",
          "data": {
            "text/plain": [
              "<Figure size 640x480 with 1 Axes>"
            ],
            "image/png": "[encoded data removed]"
          },
          "metadata": {}
        }
      ]
    }
  ]
}