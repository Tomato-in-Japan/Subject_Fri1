{
  "nbformat": 4,
  "nbformat_minor": 0,
  "metadata": {
    "colab": {
      "provenance": [],
      "include_colab_link": true
    },
    "kernelspec": {
      "name": "python3",
      "display_name": "Python 3"
    },
    "language_info": {
      "name": "python"
    }
  },
  "cells": [
    {
      "cell_type": "markdown",
      "metadata": {
        "id": "view-in-github",
        "colab_type": "text"
      },
      "source": [
        "<a href=\"https://colab.research.google.com/github/Tomato-in-Japan/Subject_Fri1/blob/Homeworks/%E3%83%87%E3%83%BC%E3%82%BF%E3%82%B5%E3%82%A4%E3%82%A8%E3%83%B3%E3%82%B9%E5%85%A5%E9%96%80_%E7%AC%AC10%E5%9B%9E_%E3%83%AF%E3%83%BC%E3%82%AF%E3%82%B7%E3%83%BC%E3%83%88.ipynb\" target=\"_parent\"><img src=\"https://colab.research.google.com/assets/colab-badge.svg\" alt=\"Open In Colab\"/></a>"
      ]
    },
    {
      "cell_type": "markdown",
      "source": [
        "# 第10回 データサイエンス入門 ワークシート"
      ],
      "metadata": {
        "id": "Ou2g1v4d9F-u"
      }
    },
    {
      "cell_type": "markdown",
      "source": [
        "次のセルに「学籍番号」、「氏名」、「クラス」、「出席番号」を入力して下さい。"
      ],
      "metadata": {
        "id": "erYUrrTjWgIr"
      }
    },
    {
      "cell_type": "code",
      "source": [
        "# 学籍番号：b2220630　氏名：加賀大智　クラス：２A　出席番号：17"
      ],
      "metadata": {
        "id": "kynRz8nzX6j6"
      },
      "execution_count": null,
      "outputs": []
    },
    {
      "cell_type": "markdown",
      "source": [
        "# 1. 導入"
      ],
      "metadata": {
        "id": "DiTdNBUCnItQ"
      }
    },
    {
      "cell_type": "markdown",
      "source": [
        "## 1-1. 概要"
      ],
      "metadata": {
        "id": "jaPWGbkjntgW"
      }
    },
    {
      "cell_type": "markdown",
      "source": [
        "今回は、教師あり学習の手法として「ロジスティック回帰」について学びます。\n",
        "ロジスティック「回帰」という名前ですが、回帰ではなく「分類」のアルゴリズムです。つまり、今回は目的変数 $y$ が離散型変数です。\n",
        "\n",
        "機械学習の概要については講義ビデオ「１０回目（１）」を用意していますので、確認してください。\n",
        "\n",
        "$d$ 個の説明変数 $x_1, x_2, \\cdots, x_d$ と目的変数 $p(x)$ について、以下のロジスティックモデル\n",
        "\n",
        "\\begin{align}\n",
        "p(x) &= \\frac{\\mathrm{exp}(\\beta_0 + \\beta_1 x_1 + \\beta_2 x_2 + \\cdots + \\beta_p x_d)}{1 + \\mathrm{exp}(\\beta_0 + \\beta_1 x_1 + \\beta_2 x_2 + \\cdots + \\beta_p x_d)} \\\\\n",
        "&= \\frac{\\mathrm{exp}(\\beta^T x)}{1 + \\mathrm{exp}(\\beta^T x)}\n",
        "\\end{align}\n",
        "\n",
        "を考えます。ただし、\n",
        "\n",
        "$$\n",
        "\\beta = (\\beta_0, \\beta_1, \\cdots, \\beta_d), \\quad\n",
        "x = (x_1, x_2, \\cdots, x_d)\n",
        "$$\n",
        "\n",
        "です。$p(x)$ の値域は $(0, 1)$ なので，しきい値 $c \\in (0, 1)$ を用いて分類を行います。\n",
        "\n",
        "偏回帰係数 $\\beta$ を推定すれば、予測値の計算が可能になります。\n",
        "\n",
        "ロジステック回帰の数学的な背景については講義ビデオ「１０回目（２）」を用意していますので、確認してください。"
      ],
      "metadata": {
        "id": "XE7QH8D1dl5n"
      }
    },
    {
      "cell_type": "markdown",
      "source": [
        "本ワークシートの事前解説動画（講義ビデオ「１０回目（３）」）を用意していますので、確認してください。\n",
        "\n",
        "必要に応じて「ウェブなどで調べる」、「修学支援室／メディアコンサルタントで質問する」などしてください。"
      ],
      "metadata": {
        "id": "9Mol-PknnZjE"
      }
    },
    {
      "cell_type": "markdown",
      "source": [
        "## 1-2. 本ワークシートの使い方"
      ],
      "metadata": {
        "id": "CFU3TeNPootB"
      }
    },
    {
      "cell_type": "markdown",
      "source": [
        "基本的に、ワークシート単体で学習が可能な設計になっています。\n",
        "\n",
        "1.   入力済みセル\n",
        "2.   穴埋め用セル\n",
        "3.   自由記述用セル\n",
        "\n",
        "がありますので、手を動かしながら学習を進めて下さい。"
      ],
      "metadata": {
        "id": "9Ht3eR20otgH"
      }
    },
    {
      "cell_type": "markdown",
      "source": [
        "## 1-3. ライブラリのインポート"
      ],
      "metadata": {
        "id": "90MjLVRdn1G6"
      }
    },
    {
      "cell_type": "markdown",
      "source": [
        "本ワークシートで使うライブラリをインポートします。以下のセルを実行して下さい。"
      ],
      "metadata": {
        "id": "GpgTbcvmciXw"
      }
    },
    {
      "cell_type": "code",
      "source": [
        "# 入力済みセル1\n",
        "\n",
        "# データの加工・処理・分析ライブラリ\n",
        "import numpy as np\n",
        "import numpy.random as random\n",
        "import scipy as sp\n",
        "from pandas import Series, DataFrame\n",
        "import pandas as pd\n",
        "\n",
        "# 可視化ライブラリ\n",
        "import matplotlib.pyplot as plt\n",
        "import matplotlib as mpl\n",
        "import seaborn as sns\n",
        "%matplotlib inline\n",
        "\n",
        "# 機械学習ライブラリ\n",
        "import sklearn\n",
        "\n",
        "# 小数点第 3 位まで表示\n",
        "%precision 3"
      ],
      "metadata": {
        "id": "lWMwE3LhczUA",
        "colab": {
          "base_uri": "https://localhost:8080/",
          "height": 36
        },
        "outputId": "f12263c5-b304-4a08-f0eb-beadd4047aa0"
      },
      "execution_count": 1,
      "outputs": [
        {
          "output_type": "execute_result",
          "data": {
            "text/plain": [
              "'%.3f'"
            ],
            "application/vnd.google.colaboratory.intrinsic+json": {
              "type": "string"
            }
          },
          "metadata": {},
          "execution_count": 1
        }
      ]
    },
    {
      "cell_type": "markdown",
      "source": [
        "# 2. 知識定着"
      ],
      "metadata": {
        "id": "6btD5TKkX0Vr"
      }
    },
    {
      "cell_type": "markdown",
      "source": [
        "## 2-1. 準備"
      ],
      "metadata": {
        "id": "ZdKlRpKM0eRY"
      }
    },
    {
      "cell_type": "markdown",
      "source": [
        "以下の URL で公開されている個人に関するデータ（米国の国勢調査）の分析を行います：\n",
        "\n",
        "https://archive.ics.uci.edu/ml/datasets/adult\n",
        "\n",
        "http://archive.ics.uci.edu/ml/machine-learning-databases/adult/adult.data"
      ],
      "metadata": {
        "id": "3TGjqQUhoHO9"
      }
    },
    {
      "cell_type": "markdown",
      "source": [
        "事前に一部の前処理を行った .csv ファイルをポータルに添付しています。\n",
        "\n",
        "adult.csv を pandas の DataFrame として読み込んで下さい。\n"
      ],
      "metadata": {
        "id": "_AZuucK7pUMj"
      }
    },
    {
      "cell_type": "code",
      "source": [
        "# 穴埋め用セル2（模範解答は最下部）\n",
        "# adult.csv を pandas の DataFrame オブジェクト df として読み込み\n",
        "df = pd.read_csv('adult.csv')"
      ],
      "metadata": {
        "id": "am22n-Sadk_R"
      },
      "execution_count": 3,
      "outputs": []
    },
    {
      "cell_type": "markdown",
      "source": [
        "まずは df の中身を確認してみましょう。以下のセルを実行して下さい。"
      ],
      "metadata": {
        "id": "n-h1qxQStxeG"
      }
    },
    {
      "cell_type": "code",
      "source": [
        "# 入力済みセル3\n",
        "# df を表示\n",
        "df"
      ],
      "metadata": {
        "id": "3B4od6siu4Yb",
        "colab": {
          "base_uri": "https://localhost:8080/",
          "height": 661
        },
        "outputId": "01e5f559-04de-442b-c12b-04e3cc5cc16d"
      },
      "execution_count": 4,
      "outputs": [
        {
          "output_type": "execute_result",
          "data": {
            "text/plain": [
              "       age          workclass  fnlwgt    education  education_num  \\\n",
              "0       39          State-gov   77516    Bachelors             13   \n",
              "1       50   Self-emp-not-inc   83311    Bachelors             13   \n",
              "2       38            Private  215646      HS-grad              9   \n",
              "3       53            Private  234721         11th              7   \n",
              "4       28            Private  338409    Bachelors             13   \n",
              "...    ...                ...     ...          ...            ...   \n",
              "32556   27            Private  257302   Assoc-acdm             12   \n",
              "32557   40            Private  154374      HS-grad              9   \n",
              "32558   58            Private  151910      HS-grad              9   \n",
              "32559   22            Private  201490      HS-grad              9   \n",
              "32560   52       Self-emp-inc  287927      HS-grad              9   \n",
              "\n",
              "            marital_status          occupation    relationship    race  sex  \\\n",
              "0            Never-married        Adm-clerical   Not-in-family   White    1   \n",
              "1       Married-civ-spouse     Exec-managerial         Husband   White    1   \n",
              "2                 Divorced   Handlers-cleaners   Not-in-family   White    1   \n",
              "3       Married-civ-spouse   Handlers-cleaners         Husband   Black    1   \n",
              "4       Married-civ-spouse      Prof-specialty            Wife   Black    0   \n",
              "...                    ...                 ...             ...     ...  ...   \n",
              "32556   Married-civ-spouse        Tech-support            Wife   White    0   \n",
              "32557   Married-civ-spouse   Machine-op-inspct         Husband   White    1   \n",
              "32558              Widowed        Adm-clerical       Unmarried   White    0   \n",
              "32559        Never-married        Adm-clerical       Own-child   White    1   \n",
              "32560   Married-civ-spouse     Exec-managerial            Wife   White    0   \n",
              "\n",
              "       capital_gain  capital_loss  hours_per_week  native_country  flg_50K  \n",
              "0              2174             0              40   United-States        0  \n",
              "1                 0             0              13   United-States        0  \n",
              "2                 0             0              40   United-States        0  \n",
              "3                 0             0              40   United-States        0  \n",
              "4                 0             0              40            Cuba        0  \n",
              "...             ...           ...             ...             ...      ...  \n",
              "32556             0             0              38   United-States        0  \n",
              "32557             0             0              40   United-States        1  \n",
              "32558             0             0              40   United-States        0  \n",
              "32559             0             0              20   United-States        0  \n",
              "32560         15024             0              40   United-States        1  \n",
              "\n",
              "[32561 rows x 15 columns]"
            ],
            "text/html": [
              "\n",
              "  <div id=\"df-4b9f1fe6-ac39-4e56-9316-eba0eb84f10c\">\n",
              "    <div class=\"colab-df-container\">\n",
              "      <div>\n",
              "<style scoped>\n",
              "    .dataframe tbody tr th:only-of-type {\n",
              "        vertical-align: middle;\n",
              "    }\n",
              "\n",
              "    .dataframe tbody tr th {\n",
              "        vertical-align: top;\n",
              "    }\n",
              "\n",
              "    .dataframe thead th {\n",
              "        text-align: right;\n",
              "    }\n",
              "</style>\n",
              "<table border=\"1\" class=\"dataframe\">\n",
              "  <thead>\n",
              "    <tr style=\"text-align: right;\">\n",
              "      <th></th>\n",
              "      <th>age</th>\n",
              "      <th>workclass</th>\n",
              "      <th>fnlwgt</th>\n",
              "      <th>education</th>\n",
              "      <th>education_num</th>\n",
              "      <th>marital_status</th>\n",
              "      <th>occupation</th>\n",
              "      <th>relationship</th>\n",
              "      <th>race</th>\n",
              "      <th>sex</th>\n",
              "      <th>capital_gain</th>\n",
              "      <th>capital_loss</th>\n",
              "      <th>hours_per_week</th>\n",
              "      <th>native_country</th>\n",
              "      <th>flg_50K</th>\n",
              "    </tr>\n",
              "  </thead>\n",
              "  <tbody>\n",
              "    <tr>\n",
              "      <th>0</th>\n",
              "      <td>39</td>\n",
              "      <td>State-gov</td>\n",
              "      <td>77516</td>\n",
              "      <td>Bachelors</td>\n",
              "      <td>13</td>\n",
              "      <td>Never-married</td>\n",
              "      <td>Adm-clerical</td>\n",
              "      <td>Not-in-family</td>\n",
              "      <td>White</td>\n",
              "      <td>1</td>\n",
              "      <td>2174</td>\n",
              "      <td>0</td>\n",
              "      <td>40</td>\n",
              "      <td>United-States</td>\n",
              "      <td>0</td>\n",
              "    </tr>\n",
              "    <tr>\n",
              "      <th>1</th>\n",
              "      <td>50</td>\n",
              "      <td>Self-emp-not-inc</td>\n",
              "      <td>83311</td>\n",
              "      <td>Bachelors</td>\n",
              "      <td>13</td>\n",
              "      <td>Married-civ-spouse</td>\n",
              "      <td>Exec-managerial</td>\n",
              "      <td>Husband</td>\n",
              "      <td>White</td>\n",
              "      <td>1</td>\n",
              "      <td>0</td>\n",
              "      <td>0</td>\n",
              "      <td>13</td>\n",
              "      <td>United-States</td>\n",
              "      <td>0</td>\n",
              "    </tr>\n",
              "    <tr>\n",
              "      <th>2</th>\n",
              "      <td>38</td>\n",
              "      <td>Private</td>\n",
              "      <td>215646</td>\n",
              "      <td>HS-grad</td>\n",
              "      <td>9</td>\n",
              "      <td>Divorced</td>\n",
              "      <td>Handlers-cleaners</td>\n",
              "      <td>Not-in-family</td>\n",
              "      <td>White</td>\n",
              "      <td>1</td>\n",
              "      <td>0</td>\n",
              "      <td>0</td>\n",
              "      <td>40</td>\n",
              "      <td>United-States</td>\n",
              "      <td>0</td>\n",
              "    </tr>\n",
              "    <tr>\n",
              "      <th>3</th>\n",
              "      <td>53</td>\n",
              "      <td>Private</td>\n",
              "      <td>234721</td>\n",
              "      <td>11th</td>\n",
              "      <td>7</td>\n",
              "      <td>Married-civ-spouse</td>\n",
              "      <td>Handlers-cleaners</td>\n",
              "      <td>Husband</td>\n",
              "      <td>Black</td>\n",
              "      <td>1</td>\n",
              "      <td>0</td>\n",
              "      <td>0</td>\n",
              "      <td>40</td>\n",
              "      <td>United-States</td>\n",
              "      <td>0</td>\n",
              "    </tr>\n",
              "    <tr>\n",
              "      <th>4</th>\n",
              "      <td>28</td>\n",
              "      <td>Private</td>\n",
              "      <td>338409</td>\n",
              "      <td>Bachelors</td>\n",
              "      <td>13</td>\n",
              "      <td>Married-civ-spouse</td>\n",
              "      <td>Prof-specialty</td>\n",
              "      <td>Wife</td>\n",
              "      <td>Black</td>\n",
              "      <td>0</td>\n",
              "      <td>0</td>\n",
              "      <td>0</td>\n",
              "      <td>40</td>\n",
              "      <td>Cuba</td>\n",
              "      <td>0</td>\n",
              "    </tr>\n",
              "    <tr>\n",
              "      <th>...</th>\n",
              "      <td>...</td>\n",
              "      <td>...</td>\n",
              "      <td>...</td>\n",
              "      <td>...</td>\n",
              "      <td>...</td>\n",
              "      <td>...</td>\n",
              "      <td>...</td>\n",
              "      <td>...</td>\n",
              "      <td>...</td>\n",
              "      <td>...</td>\n",
              "      <td>...</td>\n",
              "      <td>...</td>\n",
              "      <td>...</td>\n",
              "      <td>...</td>\n",
              "      <td>...</td>\n",
              "    </tr>\n",
              "    <tr>\n",
              "      <th>32556</th>\n",
              "      <td>27</td>\n",
              "      <td>Private</td>\n",
              "      <td>257302</td>\n",
              "      <td>Assoc-acdm</td>\n",
              "      <td>12</td>\n",
              "      <td>Married-civ-spouse</td>\n",
              "      <td>Tech-support</td>\n",
              "      <td>Wife</td>\n",
              "      <td>White</td>\n",
              "      <td>0</td>\n",
              "      <td>0</td>\n",
              "      <td>0</td>\n",
              "      <td>38</td>\n",
              "      <td>United-States</td>\n",
              "      <td>0</td>\n",
              "    </tr>\n",
              "    <tr>\n",
              "      <th>32557</th>\n",
              "      <td>40</td>\n",
              "      <td>Private</td>\n",
              "      <td>154374</td>\n",
              "      <td>HS-grad</td>\n",
              "      <td>9</td>\n",
              "      <td>Married-civ-spouse</td>\n",
              "      <td>Machine-op-inspct</td>\n",
              "      <td>Husband</td>\n",
              "      <td>White</td>\n",
              "      <td>1</td>\n",
              "      <td>0</td>\n",
              "      <td>0</td>\n",
              "      <td>40</td>\n",
              "      <td>United-States</td>\n",
              "      <td>1</td>\n",
              "    </tr>\n",
              "    <tr>\n",
              "      <th>32558</th>\n",
              "      <td>58</td>\n",
              "      <td>Private</td>\n",
              "      <td>151910</td>\n",
              "      <td>HS-grad</td>\n",
              "      <td>9</td>\n",
              "      <td>Widowed</td>\n",
              "      <td>Adm-clerical</td>\n",
              "      <td>Unmarried</td>\n",
              "      <td>White</td>\n",
              "      <td>0</td>\n",
              "      <td>0</td>\n",
              "      <td>0</td>\n",
              "      <td>40</td>\n",
              "      <td>United-States</td>\n",
              "      <td>0</td>\n",
              "    </tr>\n",
              "    <tr>\n",
              "      <th>32559</th>\n",
              "      <td>22</td>\n",
              "      <td>Private</td>\n",
              "      <td>201490</td>\n",
              "      <td>HS-grad</td>\n",
              "      <td>9</td>\n",
              "      <td>Never-married</td>\n",
              "      <td>Adm-clerical</td>\n",
              "      <td>Own-child</td>\n",
              "      <td>White</td>\n",
              "      <td>1</td>\n",
              "      <td>0</td>\n",
              "      <td>0</td>\n",
              "      <td>20</td>\n",
              "      <td>United-States</td>\n",
              "      <td>0</td>\n",
              "    </tr>\n",
              "    <tr>\n",
              "      <th>32560</th>\n",
              "      <td>52</td>\n",
              "      <td>Self-emp-inc</td>\n",
              "      <td>287927</td>\n",
              "      <td>HS-grad</td>\n",
              "      <td>9</td>\n",
              "      <td>Married-civ-spouse</td>\n",
              "      <td>Exec-managerial</td>\n",
              "      <td>Wife</td>\n",
              "      <td>White</td>\n",
              "      <td>0</td>\n",
              "      <td>15024</td>\n",
              "      <td>0</td>\n",
              "      <td>40</td>\n",
              "      <td>United-States</td>\n",
              "      <td>1</td>\n",
              "    </tr>\n",
              "  </tbody>\n",
              "</table>\n",
              "<p>32561 rows × 15 columns</p>\n",
              "</div>\n",
              "      <button class=\"colab-df-convert\" onclick=\"convertToInteractive('df-4b9f1fe6-ac39-4e56-9316-eba0eb84f10c')\"\n",
              "              title=\"Convert this dataframe to an interactive table.\"\n",
              "              style=\"display:none;\">\n",
              "        \n",
              "  <svg xmlns=\"http://www.w3.org/2000/svg\" height=\"24px\"viewBox=\"0 0 24 24\"\n",
              "       width=\"24px\">\n",
              "    <path d=\"M0 0h24v24H0V0z\" fill=\"none\"/>\n",
              "    <path d=\"M18.56 5.44l.94 2.06.94-2.06 2.06-.94-2.06-.94-.94-2.06-.94 2.06-2.06.94zm-11 1L8.5 8.5l.94-2.06 2.06-.94-2.06-.94L8.5 2.5l-.94 2.06-2.06.94zm10 10l.94 2.06.94-2.06 2.06-.94-2.06-.94-.94-2.06-.94 2.06-2.06.94z\"/><path d=\"M17.41 7.96l-1.37-1.37c-.4-.4-.92-.59-1.43-.59-.52 0-1.04.2-1.43.59L10.3 9.45l-7.72 7.72c-.78.78-.78 2.05 0 2.83L4 21.41c.39.39.9.59 1.41.59.51 0 1.02-.2 1.41-.59l7.78-7.78 2.81-2.81c.8-.78.8-2.07 0-2.86zM5.41 20L4 18.59l7.72-7.72 1.47 1.35L5.41 20z\"/>\n",
              "  </svg>\n",
              "      </button>\n",
              "      \n",
              "  <style>\n",
              "    .colab-df-container {\n",
              "      display:flex;\n",
              "      flex-wrap:wrap;\n",
              "      gap: 12px;\n",
              "    }\n",
              "\n",
              "    .colab-df-convert {\n",
              "      background-color: #E8F0FE;\n",
              "      border: none;\n",
              "      border-radius: 50%;\n",
              "      cursor: pointer;\n",
              "      display: none;\n",
              "      fill: #1967D2;\n",
              "      height: 32px;\n",
              "      padding: 0 0 0 0;\n",
              "      width: 32px;\n",
              "    }\n",
              "\n",
              "    .colab-df-convert:hover {\n",
              "      background-color: #E2EBFA;\n",
              "      box-shadow: 0px 1px 2px rgba(60, 64, 67, 0.3), 0px 1px 3px 1px rgba(60, 64, 67, 0.15);\n",
              "      fill: #174EA6;\n",
              "    }\n",
              "\n",
              "    [theme=dark] .colab-df-convert {\n",
              "      background-color: #3B4455;\n",
              "      fill: #D2E3FC;\n",
              "    }\n",
              "\n",
              "    [theme=dark] .colab-df-convert:hover {\n",
              "      background-color: #434B5C;\n",
              "      box-shadow: 0px 1px 3px 1px rgba(0, 0, 0, 0.15);\n",
              "      filter: drop-shadow(0px 1px 2px rgba(0, 0, 0, 0.3));\n",
              "      fill: #FFFFFF;\n",
              "    }\n",
              "  </style>\n",
              "\n",
              "      <script>\n",
              "        const buttonEl =\n",
              "          document.querySelector('#df-4b9f1fe6-ac39-4e56-9316-eba0eb84f10c button.colab-df-convert');\n",
              "        buttonEl.style.display =\n",
              "          google.colab.kernel.accessAllowed ? 'block' : 'none';\n",
              "\n",
              "        async function convertToInteractive(key) {\n",
              "          const element = document.querySelector('#df-4b9f1fe6-ac39-4e56-9316-eba0eb84f10c');\n",
              "          const dataTable =\n",
              "            await google.colab.kernel.invokeFunction('convertToInteractive',\n",
              "                                                     [key], {});\n",
              "          if (!dataTable) return;\n",
              "\n",
              "          const docLinkHtml = 'Like what you see? Visit the ' +\n",
              "            '<a target=\"_blank\" href=https://colab.research.google.com/notebooks/data_table.ipynb>data table notebook</a>'\n",
              "            + ' to learn more about interactive tables.';\n",
              "          element.innerHTML = '';\n",
              "          dataTable['output_type'] = 'display_data';\n",
              "          await google.colab.output.renderOutput(dataTable, element);\n",
              "          const docLink = document.createElement('div');\n",
              "          docLink.innerHTML = docLinkHtml;\n",
              "          element.appendChild(docLink);\n",
              "        }\n",
              "      </script>\n",
              "    </div>\n",
              "  </div>\n",
              "  "
            ]
          },
          "metadata": {},
          "execution_count": 4
        }
      ]
    },
    {
      "cell_type": "markdown",
      "source": [
        "「32561 rows × 15 columns」とあるので、32561行、15列のデータであることが分かります。"
      ],
      "metadata": {
        "id": "3O5BX-YxvC1j"
      }
    },
    {
      "cell_type": "markdown",
      "source": [
        "データ項目の説明は以下の通りです。カテゴリ変数 race、sex、flg_50K は事前に数字を割り当てています："
      ],
      "metadata": {
        "id": "eoY5uQAY6ZJi"
      }
    },
    {
      "cell_type": "markdown",
      "source": [
        "カラム名 | 説明\n",
        "--- | ---\n",
        "age | 年齢\n",
        "workclass | 雇用形態\n",
        "fnlwgt | final weightの略。国勢調査局によって割り当てられた重みらしいが、良く分からない。\n",
        "education | 学歴\n",
        "education_num | 学歴を数字で表したもの。数字が大きいほど、高学歴。\n",
        "marital_status | 結婚歴\n",
        "occupation | 職業\n",
        "relationship | 家族構成における位置\n",
        "race | 人種\n",
        "sex | 性別（0: Female、1: Male）\n",
        "capital_gain | 投資による利益\n",
        "capital_loss | 投資による損失\n",
        "hours_per_week | 一週間の労働時間\n",
        "native_country | 出身国\n",
        "flg_50K | 収入（年収）が5万ドル以上か（0: <=50K、1: >50K）"
      ],
      "metadata": {
        "id": "3mp9NWQE8W73"
      }
    },
    {
      "cell_type": "markdown",
      "source": [
        "欠損値の総数を確認します。以下のセルを実行して下さい。"
      ],
      "metadata": {
        "id": "xrd2jvKWb2ja"
      }
    },
    {
      "cell_type": "code",
      "source": [
        "# 入力済みセル4\n",
        "# データの欠損数を出力\n",
        "print('データの欠損数：', df.isnull().sum().sum())"
      ],
      "metadata": {
        "id": "I13qqYEHcYH9",
        "colab": {
          "base_uri": "https://localhost:8080/"
        },
        "outputId": "0bc80e54-2323-40a9-8e36-921d62fc24e9"
      },
      "execution_count": 5,
      "outputs": [
        {
          "output_type": "stream",
          "name": "stdout",
          "text": [
            "データの欠損数： 0\n"
          ]
        }
      ]
    },
    {
      "cell_type": "markdown",
      "source": [
        "## 2-2. 問題設定"
      ],
      "metadata": {
        "id": "GSAlAA__0G1R"
      }
    },
    {
      "cell_type": "markdown",
      "source": [
        "【例題】目的変数を「flg_50K」、説明変数を「age、education_num、capital_gain、capital_loss」として、ロジスティック回帰分析を実行せよ。"
      ],
      "metadata": {
        "id": "Gjg5r0m50zIe"
      }
    },
    {
      "cell_type": "markdown",
      "source": [
        "## 2-3. モデルの構築と評価"
      ],
      "metadata": {
        "id": "Fz5aqrmqGpC5"
      }
    },
    {
      "cell_type": "markdown",
      "source": [
        "偏回帰係数の有意性を担保する為、多重共線性の有無を確認します。説明変数間の相関係数を求めて下さい。相関係数の絶対値の値が大きい組み合わせがなければＯＫです。"
      ],
      "metadata": {
        "id": "K_I59LW_tA2_"
      }
    },
    {
      "cell_type": "code",
      "source": [
        "# 穴埋め用セル5（模範解答は最下部）\n",
        "# 説明変数同士の相関係数の計算\n",
        "df[['age', 'education_num', 'capital_gain', 'capital_loss']].corr()"
      ],
      "metadata": {
        "id": "aTZu2UMJsVWH",
        "colab": {
          "base_uri": "https://localhost:8080/",
          "height": 175
        },
        "outputId": "c62e605c-02b6-4436-8cb5-0af6cc8c8f57"
      },
      "execution_count": 6,
      "outputs": [
        {
          "output_type": "execute_result",
          "data": {
            "text/plain": [
              "                    age  education_num  capital_gain  capital_loss\n",
              "age            1.000000       0.036527      0.077674      0.057775\n",
              "education_num  0.036527       1.000000      0.122630      0.079923\n",
              "capital_gain   0.077674       0.122630      1.000000     -0.031615\n",
              "capital_loss   0.057775       0.079923     -0.031615      1.000000"
            ],
            "text/html": [
              "\n",
              "  <div id=\"df-877bd0b7-fb13-403e-99d0-d645f4036643\">\n",
              "    <div class=\"colab-df-container\">\n",
              "      <div>\n",
              "<style scoped>\n",
              "    .dataframe tbody tr th:only-of-type {\n",
              "        vertical-align: middle;\n",
              "    }\n",
              "\n",
              "    .dataframe tbody tr th {\n",
              "        vertical-align: top;\n",
              "    }\n",
              "\n",
              "    .dataframe thead th {\n",
              "        text-align: right;\n",
              "    }\n",
              "</style>\n",
              "<table border=\"1\" class=\"dataframe\">\n",
              "  <thead>\n",
              "    <tr style=\"text-align: right;\">\n",
              "      <th></th>\n",
              "      <th>age</th>\n",
              "      <th>education_num</th>\n",
              "      <th>capital_gain</th>\n",
              "      <th>capital_loss</th>\n",
              "    </tr>\n",
              "  </thead>\n",
              "  <tbody>\n",
              "    <tr>\n",
              "      <th>age</th>\n",
              "      <td>1.000000</td>\n",
              "      <td>0.036527</td>\n",
              "      <td>0.077674</td>\n",
              "      <td>0.057775</td>\n",
              "    </tr>\n",
              "    <tr>\n",
              "      <th>education_num</th>\n",
              "      <td>0.036527</td>\n",
              "      <td>1.000000</td>\n",
              "      <td>0.122630</td>\n",
              "      <td>0.079923</td>\n",
              "    </tr>\n",
              "    <tr>\n",
              "      <th>capital_gain</th>\n",
              "      <td>0.077674</td>\n",
              "      <td>0.122630</td>\n",
              "      <td>1.000000</td>\n",
              "      <td>-0.031615</td>\n",
              "    </tr>\n",
              "    <tr>\n",
              "      <th>capital_loss</th>\n",
              "      <td>0.057775</td>\n",
              "      <td>0.079923</td>\n",
              "      <td>-0.031615</td>\n",
              "      <td>1.000000</td>\n",
              "    </tr>\n",
              "  </tbody>\n",
              "</table>\n",
              "</div>\n",
              "      <button class=\"colab-df-convert\" onclick=\"convertToInteractive('df-877bd0b7-fb13-403e-99d0-d645f4036643')\"\n",
              "              title=\"Convert this dataframe to an interactive table.\"\n",
              "              style=\"display:none;\">\n",
              "        \n",
              "  <svg xmlns=\"http://www.w3.org/2000/svg\" height=\"24px\"viewBox=\"0 0 24 24\"\n",
              "       width=\"24px\">\n",
              "    <path d=\"M0 0h24v24H0V0z\" fill=\"none\"/>\n",
              "    <path d=\"M18.56 5.44l.94 2.06.94-2.06 2.06-.94-2.06-.94-.94-2.06-.94 2.06-2.06.94zm-11 1L8.5 8.5l.94-2.06 2.06-.94-2.06-.94L8.5 2.5l-.94 2.06-2.06.94zm10 10l.94 2.06.94-2.06 2.06-.94-2.06-.94-.94-2.06-.94 2.06-2.06.94z\"/><path d=\"M17.41 7.96l-1.37-1.37c-.4-.4-.92-.59-1.43-.59-.52 0-1.04.2-1.43.59L10.3 9.45l-7.72 7.72c-.78.78-.78 2.05 0 2.83L4 21.41c.39.39.9.59 1.41.59.51 0 1.02-.2 1.41-.59l7.78-7.78 2.81-2.81c.8-.78.8-2.07 0-2.86zM5.41 20L4 18.59l7.72-7.72 1.47 1.35L5.41 20z\"/>\n",
              "  </svg>\n",
              "      </button>\n",
              "      \n",
              "  <style>\n",
              "    .colab-df-container {\n",
              "      display:flex;\n",
              "      flex-wrap:wrap;\n",
              "      gap: 12px;\n",
              "    }\n",
              "\n",
              "    .colab-df-convert {\n",
              "      background-color: #E8F0FE;\n",
              "      border: none;\n",
              "      border-radius: 50%;\n",
              "      cursor: pointer;\n",
              "      display: none;\n",
              "      fill: #1967D2;\n",
              "      height: 32px;\n",
              "      padding: 0 0 0 0;\n",
              "      width: 32px;\n",
              "    }\n",
              "\n",
              "    .colab-df-convert:hover {\n",
              "      background-color: #E2EBFA;\n",
              "      box-shadow: 0px 1px 2px rgba(60, 64, 67, 0.3), 0px 1px 3px 1px rgba(60, 64, 67, 0.15);\n",
              "      fill: #174EA6;\n",
              "    }\n",
              "\n",
              "    [theme=dark] .colab-df-convert {\n",
              "      background-color: #3B4455;\n",
              "      fill: #D2E3FC;\n",
              "    }\n",
              "\n",
              "    [theme=dark] .colab-df-convert:hover {\n",
              "      background-color: #434B5C;\n",
              "      box-shadow: 0px 1px 3px 1px rgba(0, 0, 0, 0.15);\n",
              "      filter: drop-shadow(0px 1px 2px rgba(0, 0, 0, 0.3));\n",
              "      fill: #FFFFFF;\n",
              "    }\n",
              "  </style>\n",
              "\n",
              "      <script>\n",
              "        const buttonEl =\n",
              "          document.querySelector('#df-877bd0b7-fb13-403e-99d0-d645f4036643 button.colab-df-convert');\n",
              "        buttonEl.style.display =\n",
              "          google.colab.kernel.accessAllowed ? 'block' : 'none';\n",
              "\n",
              "        async function convertToInteractive(key) {\n",
              "          const element = document.querySelector('#df-877bd0b7-fb13-403e-99d0-d645f4036643');\n",
              "          const dataTable =\n",
              "            await google.colab.kernel.invokeFunction('convertToInteractive',\n",
              "                                                     [key], {});\n",
              "          if (!dataTable) return;\n",
              "\n",
              "          const docLinkHtml = 'Like what you see? Visit the ' +\n",
              "            '<a target=\"_blank\" href=https://colab.research.google.com/notebooks/data_table.ipynb>data table notebook</a>'\n",
              "            + ' to learn more about interactive tables.';\n",
              "          element.innerHTML = '';\n",
              "          dataTable['output_type'] = 'display_data';\n",
              "          await google.colab.output.renderOutput(dataTable, element);\n",
              "          const docLink = document.createElement('div');\n",
              "          docLink.innerHTML = docLinkHtml;\n",
              "          element.appendChild(docLink);\n",
              "        }\n",
              "      </script>\n",
              "    </div>\n",
              "  </div>\n",
              "  "
            ]
          },
          "metadata": {},
          "execution_count": 6
        }
      ]
    },
    {
      "cell_type": "code",
      "source": [
        "# 入力済みセル6\n",
        "# 必要なライブラリのインポート\n",
        "from sklearn.model_selection import train_test_split\n",
        "from sklearn.linear_model import LogisticRegression\n",
        "\n",
        "# 目的変数に「flg_50K」、説明変数に「age」、「education_num」、「capital_gain」、「capital_loss」を指定\n",
        "x = df[['age', 'education_num', 'capital_gain', 'capital_loss']]\n",
        "y = df['flg_50K']\n",
        "\n",
        "# データを訓練データとテストデータに分ける\n",
        "x_train, x_test, y_train, y_test = train_test_split(x, y, test_size=0.5, random_state=0)\n",
        "\n",
        "# モデルの初期化と学習\n",
        "model = LogisticRegression(penalty='none')\n",
        "model.fit(x_train, y_train)\n",
        "\n",
        "print('訓練データに対する正解率：', model.score(x_train, y_train))\n",
        "print('テストデータに対する正解率：', model.score(x_test, y_test))\n",
        "print('偏回帰係数：')\n",
        "print(pd.Series(model.coef_[0], index=x.columns))"
      ],
      "metadata": {
        "id": "f58vi3pLNzqx",
        "colab": {
          "base_uri": "https://localhost:8080/"
        },
        "outputId": "fda2b895-fc69-4b8d-9f14-38613b936a86"
      },
      "execution_count": 7,
      "outputs": [
        {
          "output_type": "stream",
          "name": "stderr",
          "text": [
            "/usr/local/lib/python3.10/dist-packages/sklearn/linear_model/_logistic.py:1173: FutureWarning: `penalty='none'`has been deprecated in 1.2 and will be removed in 1.4. To keep the past behaviour, set `penalty=None`.\n",
            "  warnings.warn(\n"
          ]
        },
        {
          "output_type": "stream",
          "name": "stdout",
          "text": [
            "訓練データに対する正解率： 0.8104422604422604\n",
            "テストデータに対する正解率： 0.8100239543025612\n",
            "偏回帰係数：\n",
            "age              0.039033\n",
            "education_num    0.326322\n",
            "capital_gain     0.000310\n",
            "capital_loss     0.000703\n",
            "dtype: float64\n"
          ]
        }
      ]
    },
    {
      "cell_type": "markdown",
      "source": [
        "以上で学習と評価は完了です。\n",
        "\n",
        "LogisticRegression オブジェクトの詳細は以下のウェブページを参照して下さい：\n",
        "\n",
        "https://scikit-learn.org/stable/modules/generated/sklearn.linear_model.LogisticRegression.html?highlight=logistic#sklearn.linear_model.LogisticRegression"
      ],
      "metadata": {
        "id": "e0KyuU6gPKiT"
      }
    },
    {
      "cell_type": "markdown",
      "source": [
        "## 2-4. 標準化による偏回帰係数の解釈"
      ],
      "metadata": {
        "id": "deFNpPo4P3U7"
      }
    },
    {
      "cell_type": "markdown",
      "source": [
        "上記のモデルでは「age」、「education_num」、「capital_gain」、「capital_loss」の単位や大きさがバラバラである為、偏回帰係数の大きさに意味がありません。\n",
        "\n",
        "標準化した説明変数から算出される偏回帰係数を**標準偏回帰係数**と呼びます。標準偏回帰係数は各変数の重要度を表す指標であり、大小の比較に意味があります。\n",
        "\n",
        "標準化とは、以下のようにデータを変換することである：\n",
        "\n",
        "$$\n",
        "z_i = \\frac{x_i - （x の平均）}{（x の標準偏差）}\n",
        "$$\n",
        "\n",
        "標準化については「復習_データ活用基礎_講義スライド（stat_lecture_slides_10.pdf）」を参照して下さい。\n",
        "\n",
        "上記のロジスティック回帰分析に StandardScaler クラスを利用した標準化を追加した分析スクリプトは以下の通りです。"
      ],
      "metadata": {
        "id": "KGRkMzZe5R1p"
      }
    },
    {
      "cell_type": "code",
      "source": [
        "# 入力済みセル7\n",
        "# adult.csv を pandas の DataFrame オブジェクト df として読み込み\n",
        "df = pd.read_csv('adult.csv')\n",
        "\n",
        "# 必要なライブラリのインポート\n",
        "from sklearn.model_selection import train_test_split\n",
        "from sklearn.linear_model import LogisticRegression\n",
        "\n",
        "# 目的変数に「flg_50K」、説明変数に「age」、「education_num」、「capital_gain」、「capital_loss」を指定\n",
        "x = df[['age', 'education_num', 'capital_gain', 'capital_loss']]\n",
        "y = df['flg_50K']\n",
        "\n",
        "# データを訓練データとテストデータに分ける\n",
        "x_train, x_test, y_train, y_test = train_test_split(x, y, test_size=0.5, random_state=0)\n",
        "\n",
        "# 標準化ライブラリのインポート\n",
        "from sklearn.preprocessing import StandardScaler\n",
        "\n",
        "# 標準化処理\n",
        "sc = StandardScaler()\n",
        "sc.fit(x_train)\n",
        "x_train_std = sc.transform(x_train)\n",
        "x_test_std = sc.transform(x_test)\n",
        "\n",
        "# モデルの初期化と学習\n",
        "model = LogisticRegression(penalty='none')\n",
        "model.fit(x_train_std, y_train)\n",
        "\n",
        "print('訓練データに対する正解率：', model.score(x_train_std, y_train))\n",
        "print('テストデータに対する正解率：', model.score(x_test_std, y_test))\n",
        "print('偏回帰係数：')\n",
        "print(pd.Series(model.coef_[0], index=x.columns))"
      ],
      "metadata": {
        "id": "s-modJ-EWazP",
        "colab": {
          "base_uri": "https://localhost:8080/"
        },
        "outputId": "47ca42e4-caba-4eb1-c19e-e9ac5560af81"
      },
      "execution_count": 8,
      "outputs": [
        {
          "output_type": "stream",
          "name": "stdout",
          "text": [
            "訓練データに対する正解率： 0.8104422604422604\n",
            "テストデータに対する正解率： 0.8100239543025612\n",
            "偏回帰係数：\n",
            "age              0.531363\n",
            "education_num    0.839657\n",
            "capital_gain     2.308811\n",
            "capital_loss     0.286848\n",
            "dtype: float64\n"
          ]
        },
        {
          "output_type": "stream",
          "name": "stderr",
          "text": [
            "/usr/local/lib/python3.10/dist-packages/sklearn/linear_model/_logistic.py:1173: FutureWarning: `penalty='none'`has been deprecated in 1.2 and will be removed in 1.4. To keep the past behaviour, set `penalty=None`.\n",
            "  warnings.warn(\n"
          ]
        }
      ]
    },
    {
      "cell_type": "markdown",
      "source": [
        "「2-3. モデルの構築と評価」と比較すると、\n",
        "\n",
        "*   正解率：変化なし\n",
        "*   偏回帰係数：変化あり\n",
        "\n",
        "であることが分かる。偏回帰係数の絶対値の大きさが説明変数に対する影響力を表している。"
      ],
      "metadata": {
        "id": "1cM0KGZPi9By"
      }
    },
    {
      "cell_type": "markdown",
      "source": [
        "# 3. 知識活用（課題）"
      ],
      "metadata": {
        "id": "a4xl6rlYZ76I"
      }
    },
    {
      "cell_type": "markdown",
      "source": [
        "【問題】目的変数を「flg_50K」、説明変数を「age、education_num、sex、capital_gain、capital_loss、hours_per_week」として、ロジスティック回帰分析を実行せよ。ただし、説明変数を標準化し、偏回帰係数を比較すること。\n",
        "\n",
        "※分析結果の解釈には、統計的差別に至らないよう、十分なドメイン知識が必要です。「復習_データ活用基礎_講義スライド（stat_lecture_slides_01.pdf）」を参照して下さい。"
      ],
      "metadata": {
        "id": "EvSXibRRkUfK"
      }
    },
    {
      "cell_type": "code",
      "source": [
        "#ライブラリ\n",
        "import numpy as np\n",
        "import numpy.random as random\n",
        "import scipy as sp\n",
        "from pandas import Series, DataFrame\n",
        "import pandas as pd\n",
        "import matplotlib.pyplot as plt\n",
        "import matplotlib as mpl\n",
        "import seaborn as sns\n",
        "%matplotlib inline\n",
        "import sklearn\n",
        "%precision 3"
      ],
      "metadata": {
        "id": "NaFqo378wXyy",
        "colab": {
          "base_uri": "https://localhost:8080/",
          "height": 36
        },
        "outputId": "19ab5f82-f30b-4c8e-aea8-86d0d4d21541"
      },
      "execution_count": 54,
      "outputs": [
        {
          "output_type": "execute_result",
          "data": {
            "text/plain": [
              "'%.3f'"
            ],
            "application/vnd.google.colaboratory.intrinsic+json": {
              "type": "string"
            }
          },
          "metadata": {},
          "execution_count": 54
        }
      ]
    },
    {
      "cell_type": "code",
      "source": [
        "df = pd.read_csv('adult.csv')\n",
        "print('データの欠損数：', df.isnull().sum().sum())\n",
        "df[['age', 'education_num', 'sex' ,'capital_gain', 'capital_loss', 'hours_per_week']].corr()"
      ],
      "metadata": {
        "colab": {
          "base_uri": "https://localhost:8080/",
          "height": 255
        },
        "id": "7arD-ZpDikFi",
        "outputId": "5e733c68-ec90-41e8-e878-83e4afa378f5"
      },
      "execution_count": 55,
      "outputs": [
        {
          "output_type": "stream",
          "name": "stdout",
          "text": [
            "データの欠損数： 0\n"
          ]
        },
        {
          "output_type": "execute_result",
          "data": {
            "text/plain": [
              "                     age  education_num       sex  capital_gain  capital_loss  \\\n",
              "age             1.000000       0.036527  0.088832      0.077674      0.057775   \n",
              "education_num   0.036527       1.000000  0.012280      0.122630      0.079923   \n",
              "sex             0.088832       0.012280  1.000000      0.048480      0.045567   \n",
              "capital_gain    0.077674       0.122630  0.048480      1.000000     -0.031615   \n",
              "capital_loss    0.057775       0.079923  0.045567     -0.031615      1.000000   \n",
              "hours_per_week  0.068756       0.148123  0.229309      0.078409      0.054256   \n",
              "\n",
              "                hours_per_week  \n",
              "age                   0.068756  \n",
              "education_num         0.148123  \n",
              "sex                   0.229309  \n",
              "capital_gain          0.078409  \n",
              "capital_loss          0.054256  \n",
              "hours_per_week        1.000000  "
            ],
            "text/html": [
              "\n",
              "  <div id=\"df-a580b911-f50f-4406-b2a0-7f8a76411d61\">\n",
              "    <div class=\"colab-df-container\">\n",
              "      <div>\n",
              "<style scoped>\n",
              "    .dataframe tbody tr th:only-of-type {\n",
              "        vertical-align: middle;\n",
              "    }\n",
              "\n",
              "    .dataframe tbody tr th {\n",
              "        vertical-align: top;\n",
              "    }\n",
              "\n",
              "    .dataframe thead th {\n",
              "        text-align: right;\n",
              "    }\n",
              "</style>\n",
              "<table border=\"1\" class=\"dataframe\">\n",
              "  <thead>\n",
              "    <tr style=\"text-align: right;\">\n",
              "      <th></th>\n",
              "      <th>age</th>\n",
              "      <th>education_num</th>\n",
              "      <th>sex</th>\n",
              "      <th>capital_gain</th>\n",
              "      <th>capital_loss</th>\n",
              "      <th>hours_per_week</th>\n",
              "    </tr>\n",
              "  </thead>\n",
              "  <tbody>\n",
              "    <tr>\n",
              "      <th>age</th>\n",
              "      <td>1.000000</td>\n",
              "      <td>0.036527</td>\n",
              "      <td>0.088832</td>\n",
              "      <td>0.077674</td>\n",
              "      <td>0.057775</td>\n",
              "      <td>0.068756</td>\n",
              "    </tr>\n",
              "    <tr>\n",
              "      <th>education_num</th>\n",
              "      <td>0.036527</td>\n",
              "      <td>1.000000</td>\n",
              "      <td>0.012280</td>\n",
              "      <td>0.122630</td>\n",
              "      <td>0.079923</td>\n",
              "      <td>0.148123</td>\n",
              "    </tr>\n",
              "    <tr>\n",
              "      <th>sex</th>\n",
              "      <td>0.088832</td>\n",
              "      <td>0.012280</td>\n",
              "      <td>1.000000</td>\n",
              "      <td>0.048480</td>\n",
              "      <td>0.045567</td>\n",
              "      <td>0.229309</td>\n",
              "    </tr>\n",
              "    <tr>\n",
              "      <th>capital_gain</th>\n",
              "      <td>0.077674</td>\n",
              "      <td>0.122630</td>\n",
              "      <td>0.048480</td>\n",
              "      <td>1.000000</td>\n",
              "      <td>-0.031615</td>\n",
              "      <td>0.078409</td>\n",
              "    </tr>\n",
              "    <tr>\n",
              "      <th>capital_loss</th>\n",
              "      <td>0.057775</td>\n",
              "      <td>0.079923</td>\n",
              "      <td>0.045567</td>\n",
              "      <td>-0.031615</td>\n",
              "      <td>1.000000</td>\n",
              "      <td>0.054256</td>\n",
              "    </tr>\n",
              "    <tr>\n",
              "      <th>hours_per_week</th>\n",
              "      <td>0.068756</td>\n",
              "      <td>0.148123</td>\n",
              "      <td>0.229309</td>\n",
              "      <td>0.078409</td>\n",
              "      <td>0.054256</td>\n",
              "      <td>1.000000</td>\n",
              "    </tr>\n",
              "  </tbody>\n",
              "</table>\n",
              "</div>\n",
              "      <button class=\"colab-df-convert\" onclick=\"convertToInteractive('df-a580b911-f50f-4406-b2a0-7f8a76411d61')\"\n",
              "              title=\"Convert this dataframe to an interactive table.\"\n",
              "              style=\"display:none;\">\n",
              "        \n",
              "  <svg xmlns=\"http://www.w3.org/2000/svg\" height=\"24px\"viewBox=\"0 0 24 24\"\n",
              "       width=\"24px\">\n",
              "    <path d=\"M0 0h24v24H0V0z\" fill=\"none\"/>\n",
              "    <path d=\"M18.56 5.44l.94 2.06.94-2.06 2.06-.94-2.06-.94-.94-2.06-.94 2.06-2.06.94zm-11 1L8.5 8.5l.94-2.06 2.06-.94-2.06-.94L8.5 2.5l-.94 2.06-2.06.94zm10 10l.94 2.06.94-2.06 2.06-.94-2.06-.94-.94-2.06-.94 2.06-2.06.94z\"/><path d=\"M17.41 7.96l-1.37-1.37c-.4-.4-.92-.59-1.43-.59-.52 0-1.04.2-1.43.59L10.3 9.45l-7.72 7.72c-.78.78-.78 2.05 0 2.83L4 21.41c.39.39.9.59 1.41.59.51 0 1.02-.2 1.41-.59l7.78-7.78 2.81-2.81c.8-.78.8-2.07 0-2.86zM5.41 20L4 18.59l7.72-7.72 1.47 1.35L5.41 20z\"/>\n",
              "  </svg>\n",
              "      </button>\n",
              "      \n",
              "  <style>\n",
              "    .colab-df-container {\n",
              "      display:flex;\n",
              "      flex-wrap:wrap;\n",
              "      gap: 12px;\n",
              "    }\n",
              "\n",
              "    .colab-df-convert {\n",
              "      background-color: #E8F0FE;\n",
              "      border: none;\n",
              "      border-radius: 50%;\n",
              "      cursor: pointer;\n",
              "      display: none;\n",
              "      fill: #1967D2;\n",
              "      height: 32px;\n",
              "      padding: 0 0 0 0;\n",
              "      width: 32px;\n",
              "    }\n",
              "\n",
              "    .colab-df-convert:hover {\n",
              "      background-color: #E2EBFA;\n",
              "      box-shadow: 0px 1px 2px rgba(60, 64, 67, 0.3), 0px 1px 3px 1px rgba(60, 64, 67, 0.15);\n",
              "      fill: #174EA6;\n",
              "    }\n",
              "\n",
              "    [theme=dark] .colab-df-convert {\n",
              "      background-color: #3B4455;\n",
              "      fill: #D2E3FC;\n",
              "    }\n",
              "\n",
              "    [theme=dark] .colab-df-convert:hover {\n",
              "      background-color: #434B5C;\n",
              "      box-shadow: 0px 1px 3px 1px rgba(0, 0, 0, 0.15);\n",
              "      filter: drop-shadow(0px 1px 2px rgba(0, 0, 0, 0.3));\n",
              "      fill: #FFFFFF;\n",
              "    }\n",
              "  </style>\n",
              "\n",
              "      <script>\n",
              "        const buttonEl =\n",
              "          document.querySelector('#df-a580b911-f50f-4406-b2a0-7f8a76411d61 button.colab-df-convert');\n",
              "        buttonEl.style.display =\n",
              "          google.colab.kernel.accessAllowed ? 'block' : 'none';\n",
              "\n",
              "        async function convertToInteractive(key) {\n",
              "          const element = document.querySelector('#df-a580b911-f50f-4406-b2a0-7f8a76411d61');\n",
              "          const dataTable =\n",
              "            await google.colab.kernel.invokeFunction('convertToInteractive',\n",
              "                                                     [key], {});\n",
              "          if (!dataTable) return;\n",
              "\n",
              "          const docLinkHtml = 'Like what you see? Visit the ' +\n",
              "            '<a target=\"_blank\" href=https://colab.research.google.com/notebooks/data_table.ipynb>data table notebook</a>'\n",
              "            + ' to learn more about interactive tables.';\n",
              "          element.innerHTML = '';\n",
              "          dataTable['output_type'] = 'display_data';\n",
              "          await google.colab.output.renderOutput(dataTable, element);\n",
              "          const docLink = document.createElement('div');\n",
              "          docLink.innerHTML = docLinkHtml;\n",
              "          element.appendChild(docLink);\n",
              "        }\n",
              "      </script>\n",
              "    </div>\n",
              "  </div>\n",
              "  "
            ]
          },
          "metadata": {},
          "execution_count": 55
        }
      ]
    },
    {
      "cell_type": "code",
      "source": [
        "from sklearn.model_selection import train_test_split\n",
        "from sklearn.linear_model import LogisticRegression\n",
        "x = df[['age', 'education_num', 'sex' ,'capital_gain', 'capital_loss', 'hours_per_week']]\n",
        "y = df['flg_50K']\n",
        "x_train, x_test, y_train, y_test = train_test_split(x, y, test_size=0.5, random_state=0)\n",
        "from sklearn.preprocessing import StandardScaler\n",
        "sc = StandardScaler()\n",
        "sc.fit(x_train)\n",
        "x_train_std = sc.transform(x_train)\n",
        "x_test_std = sc.transform(x_test)\n",
        "print(x_train_std)"
      ],
      "metadata": {
        "colab": {
          "base_uri": "https://localhost:8080/"
        },
        "id": "-aDot6mUjC9B",
        "outputId": "8b633456-5950-4737-8cfc-678ad87c4700"
      },
      "execution_count": 56,
      "outputs": [
        {
          "output_type": "stream",
          "name": "stdout",
          "text": [
            "[[ 3.11  -0.414 -1.427 -0.143 -0.219 -0.448]\n",
            " [ 2.669 -0.025  0.701 -0.143 -0.219 -0.039]\n",
            " [ 1.714 -0.414 -1.427 -0.143 -0.219 -0.039]\n",
            " ...\n",
            " [-1.15  -0.025 -1.427 -0.143 -0.219 -0.039]\n",
            " [ 0.466  2.307  0.701  0.89  -0.219  0.37 ]\n",
            " [-1.004 -0.025  0.701  0.206 -0.219  0.615]]\n"
          ]
        }
      ]
    },
    {
      "cell_type": "code",
      "source": [
        "model = LogisticRegression(penalty='none')\n",
        "model.fit(x_train_std, y_train)"
      ],
      "metadata": {
        "colab": {
          "base_uri": "https://localhost:8080/",
          "height": 131
        },
        "id": "yZLLO2I9jakN",
        "outputId": "a35c83fb-96e2-4743-b5d6-6aac853cbbf8"
      },
      "execution_count": 57,
      "outputs": [
        {
          "output_type": "stream",
          "name": "stderr",
          "text": [
            "/usr/local/lib/python3.10/dist-packages/sklearn/linear_model/_logistic.py:1173: FutureWarning: `penalty='none'`has been deprecated in 1.2 and will be removed in 1.4. To keep the past behaviour, set `penalty=None`.\n",
            "  warnings.warn(\n"
          ]
        },
        {
          "output_type": "execute_result",
          "data": {
            "text/plain": [
              "LogisticRegression(penalty='none')"
            ],
            "text/html": [
              "<style>#sk-container-id-5 {color: black;background-color: white;}#sk-container-id-5 pre{padding: 0;}#sk-container-id-5 div.sk-toggleable {background-color: white;}#sk-container-id-5 label.sk-toggleable__label {cursor: pointer;display: block;width: 100%;margin-bottom: 0;padding: 0.3em;box-sizing: border-box;text-align: center;}#sk-container-id-5 label.sk-toggleable__label-arrow:before {content: \"▸\";float: left;margin-right: 0.25em;color: #696969;}#sk-container-id-5 label.sk-toggleable__label-arrow:hover:before {color: black;}#sk-container-id-5 div.sk-estimator:hover label.sk-toggleable__label-arrow:before {color: black;}#sk-container-id-5 div.sk-toggleable__content {max-height: 0;max-width: 0;overflow: hidden;text-align: left;background-color: #f0f8ff;}#sk-container-id-5 div.sk-toggleable__content pre {margin: 0.2em;color: black;border-radius: 0.25em;background-color: #f0f8ff;}#sk-container-id-5 input.sk-toggleable__control:checked~div.sk-toggleable__content {max-height: 200px;max-width: 100%;overflow: auto;}#sk-container-id-5 input.sk-toggleable__control:checked~label.sk-toggleable__label-arrow:before {content: \"▾\";}#sk-container-id-5 div.sk-estimator input.sk-toggleable__control:checked~label.sk-toggleable__label {background-color: #d4ebff;}#sk-container-id-5 div.sk-label input.sk-toggleable__control:checked~label.sk-toggleable__label {background-color: #d4ebff;}#sk-container-id-5 input.sk-hidden--visually {border: 0;clip: rect(1px 1px 1px 1px);clip: rect(1px, 1px, 1px, 1px);height: 1px;margin: -1px;overflow: hidden;padding: 0;position: absolute;width: 1px;}#sk-container-id-5 div.sk-estimator {font-family: monospace;background-color: #f0f8ff;border: 1px dotted black;border-radius: 0.25em;box-sizing: border-box;margin-bottom: 0.5em;}#sk-container-id-5 div.sk-estimator:hover {background-color: #d4ebff;}#sk-container-id-5 div.sk-parallel-item::after {content: \"\";width: 100%;border-bottom: 1px solid gray;flex-grow: 1;}#sk-container-id-5 div.sk-label:hover label.sk-toggleable__label {background-color: #d4ebff;}#sk-container-id-5 div.sk-serial::before {content: \"\";position: absolute;border-left: 1px solid gray;box-sizing: border-box;top: 0;bottom: 0;left: 50%;z-index: 0;}#sk-container-id-5 div.sk-serial {display: flex;flex-direction: column;align-items: center;background-color: white;padding-right: 0.2em;padding-left: 0.2em;position: relative;}#sk-container-id-5 div.sk-item {position: relative;z-index: 1;}#sk-container-id-5 div.sk-parallel {display: flex;align-items: stretch;justify-content: center;background-color: white;position: relative;}#sk-container-id-5 div.sk-item::before, #sk-container-id-5 div.sk-parallel-item::before {content: \"\";position: absolute;border-left: 1px solid gray;box-sizing: border-box;top: 0;bottom: 0;left: 50%;z-index: -1;}#sk-container-id-5 div.sk-parallel-item {display: flex;flex-direction: column;z-index: 1;position: relative;background-color: white;}#sk-container-id-5 div.sk-parallel-item:first-child::after {align-self: flex-end;width: 50%;}#sk-container-id-5 div.sk-parallel-item:last-child::after {align-self: flex-start;width: 50%;}#sk-container-id-5 div.sk-parallel-item:only-child::after {width: 0;}#sk-container-id-5 div.sk-dashed-wrapped {border: 1px dashed gray;margin: 0 0.4em 0.5em 0.4em;box-sizing: border-box;padding-bottom: 0.4em;background-color: white;}#sk-container-id-5 div.sk-label label {font-family: monospace;font-weight: bold;display: inline-block;line-height: 1.2em;}#sk-container-id-5 div.sk-label-container {text-align: center;}#sk-container-id-5 div.sk-container {/* jupyter's `normalize.less` sets `[hidden] { display: none; }` but bootstrap.min.css set `[hidden] { display: none !important; }` so we also need the `!important` here to be able to override the default hidden behavior on the sphinx rendered scikit-learn.org. See: https://github.com/scikit-learn/scikit-learn/issues/21755 */display: inline-block !important;position: relative;}#sk-container-id-5 div.sk-text-repr-fallback {display: none;}</style><div id=\"sk-container-id-5\" class=\"sk-top-container\"><div class=\"sk-text-repr-fallback\"><pre>LogisticRegression(penalty=&#x27;none&#x27;)</pre><b>In a Jupyter environment, please rerun this cell to show the HTML representation or trust the notebook. <br />On GitHub, the HTML representation is unable to render, please try loading this page with nbviewer.org.</b></div><div class=\"sk-container\" hidden><div class=\"sk-item\"><div class=\"sk-estimator sk-toggleable\"><input class=\"sk-toggleable__control sk-hidden--visually\" id=\"sk-estimator-id-5\" type=\"checkbox\" checked><label for=\"sk-estimator-id-5\" class=\"sk-toggleable__label sk-toggleable__label-arrow\">LogisticRegression</label><div class=\"sk-toggleable__content\"><pre>LogisticRegression(penalty=&#x27;none&#x27;)</pre></div></div></div></div></div>"
            ]
          },
          "metadata": {},
          "execution_count": 57
        }
      ]
    },
    {
      "cell_type": "code",
      "source": [
        "model = LogisticRegression(penalty='none')\n",
        "model.fit(x_train_std, y_train)\n",
        "\n",
        "print('訓練データに対する正解率：', model.score(x_train_std, y_train))\n",
        "print('テストデータに対する正解率：', model.score(x_test_std, y_test))\n",
        "print('偏回帰係数：')\n",
        "print(pd.Series(model.coef_[0], index=x.columns))"
      ],
      "metadata": {
        "colab": {
          "base_uri": "https://localhost:8080/"
        },
        "id": "pVfqxazejePF",
        "outputId": "756e6904-0cb1-4d84-d061-f15a435cb829"
      },
      "execution_count": 58,
      "outputs": [
        {
          "output_type": "stream",
          "name": "stdout",
          "text": [
            "訓練データに対する正解率： 0.822051597051597\n",
            "テストデータに対する正解率： 0.823536637798661\n",
            "偏回帰係数：\n",
            "age               0.555492\n",
            "education_num     0.837195\n",
            "sex               0.571265\n",
            "capital_gain      2.231961\n",
            "capital_loss      0.269165\n",
            "hours_per_week    0.406942\n",
            "dtype: float64\n"
          ]
        },
        {
          "output_type": "stream",
          "name": "stderr",
          "text": [
            "/usr/local/lib/python3.10/dist-packages/sklearn/linear_model/_logistic.py:1173: FutureWarning: `penalty='none'`has been deprecated in 1.2 and will be removed in 1.4. To keep the past behaviour, set `penalty=None`.\n",
            "  warnings.warn(\n"
          ]
        }
      ]
    },
    {
      "cell_type": "markdown",
      "source": [
        "# 4. 知識応用（発展課題）"
      ],
      "metadata": {
        "id": "GFU_mvalZ-mt"
      }
    },
    {
      "cell_type": "markdown",
      "source": [
        "【問題】標準化関数を自作し、「3. 知識活用（課題）」に適用せよ。ただし、引数と戻り値は pandas の DataFrame とする。"
      ],
      "metadata": {
        "id": "4xnz1RJLmAuf"
      }
    },
    {
      "cell_type": "code",
      "source": [
        "# 自由記述用セル9\n",
        "# 標準化関数\n",
        "\n",
        "\n",
        "def standardization(df):\n",
        "  import numpy as np\n",
        "  for i in df.columns.values:\n",
        "    df[i]=(df[i]-df[i].mean())/df[i].std()\n",
        "  return df\n"
      ],
      "metadata": {
        "id": "2_vG5B9JmbOK"
      },
      "execution_count": 70,
      "outputs": []
    },
    {
      "cell_type": "code",
      "source": [
        "df = pd.read_csv('adult.csv')\n",
        "x=df[['age', 'education_num', 'sex' ,'capital_gain', 'capital_loss', 'hours_per_week']]\n",
        "y = df['flg_50K']\n",
        "x_train, x_test, y_train, y_test = train_test_split(x, y, test_size=0.5, random_state=0)\n",
        "x_1=standardization(x_train)\n",
        "x_2=standardization(x_test)\n",
        "print(x_1)"
      ],
      "metadata": {
        "colab": {
          "base_uri": "https://localhost:8080/"
        },
        "id": "FfTYZy7z0ZMJ",
        "outputId": "6f0394c2-5d28-40d4-96c5-c8869702026c"
      },
      "execution_count": 71,
      "outputs": [
        {
          "output_type": "stream",
          "name": "stdout",
          "text": [
            "            age  education_num       sex  capital_gain  capital_loss  \\\n",
            "7872   3.109986      -0.413498 -1.427103     -0.143496     -0.218979   \n",
            "31180  2.669252      -0.024874  0.700677     -0.143496     -0.218979   \n",
            "25875  1.714328      -0.413498 -1.427103     -0.143496     -0.218979   \n",
            "4345   1.273594      -0.413498  0.700677     -0.143496     -0.218979   \n",
            "15278  0.392126      -0.024874  0.700677      0.552837     -0.218979   \n",
            "...         ...            ...       ...           ...           ...   \n",
            "13123  0.318670       1.529624  0.700677     -0.143496     -0.218979   \n",
            "19648  0.392126      -1.579371  0.700677     -0.143496     -0.218979   \n",
            "9845  -1.150443      -0.024874 -1.427103     -0.143496     -0.218979   \n",
            "10799  0.465582       2.306872  0.700677      0.890379     -0.218979   \n",
            "2732  -1.003532      -0.024874  0.700677      0.205746     -0.218979   \n",
            "\n",
            "       hours_per_week  \n",
            "7872        -0.448367  \n",
            "31180       -0.039422  \n",
            "25875       -0.039422  \n",
            "4345        -0.448367  \n",
            "15278        0.778467  \n",
            "...               ...  \n",
            "13123       -0.039422  \n",
            "19648       -0.448367  \n",
            "9845        -0.039422  \n",
            "10799        0.369522  \n",
            "2732         0.614889  \n",
            "\n",
            "[16280 rows x 6 columns]\n"
          ]
        }
      ]
    },
    {
      "cell_type": "code",
      "source": [
        "model = LogisticRegression(penalty='none')\n",
        "model.fit(x_1, y_train)"
      ],
      "metadata": {
        "colab": {
          "base_uri": "https://localhost:8080/",
          "height": 131
        },
        "id": "-9sL4W526rK_",
        "outputId": "084ef6d6-ca26-4fdd-b2f0-9ff6fa05067f"
      },
      "execution_count": 72,
      "outputs": [
        {
          "output_type": "stream",
          "name": "stderr",
          "text": [
            "/usr/local/lib/python3.10/dist-packages/sklearn/linear_model/_logistic.py:1173: FutureWarning: `penalty='none'`has been deprecated in 1.2 and will be removed in 1.4. To keep the past behaviour, set `penalty=None`.\n",
            "  warnings.warn(\n"
          ]
        },
        {
          "output_type": "execute_result",
          "data": {
            "text/plain": [
              "LogisticRegression(penalty='none')"
            ],
            "text/html": [
              "<style>#sk-container-id-7 {color: black;background-color: white;}#sk-container-id-7 pre{padding: 0;}#sk-container-id-7 div.sk-toggleable {background-color: white;}#sk-container-id-7 label.sk-toggleable__label {cursor: pointer;display: block;width: 100%;margin-bottom: 0;padding: 0.3em;box-sizing: border-box;text-align: center;}#sk-container-id-7 label.sk-toggleable__label-arrow:before {content: \"▸\";float: left;margin-right: 0.25em;color: #696969;}#sk-container-id-7 label.sk-toggleable__label-arrow:hover:before {color: black;}#sk-container-id-7 div.sk-estimator:hover label.sk-toggleable__label-arrow:before {color: black;}#sk-container-id-7 div.sk-toggleable__content {max-height: 0;max-width: 0;overflow: hidden;text-align: left;background-color: #f0f8ff;}#sk-container-id-7 div.sk-toggleable__content pre {margin: 0.2em;color: black;border-radius: 0.25em;background-color: #f0f8ff;}#sk-container-id-7 input.sk-toggleable__control:checked~div.sk-toggleable__content {max-height: 200px;max-width: 100%;overflow: auto;}#sk-container-id-7 input.sk-toggleable__control:checked~label.sk-toggleable__label-arrow:before {content: \"▾\";}#sk-container-id-7 div.sk-estimator input.sk-toggleable__control:checked~label.sk-toggleable__label {background-color: #d4ebff;}#sk-container-id-7 div.sk-label input.sk-toggleable__control:checked~label.sk-toggleable__label {background-color: #d4ebff;}#sk-container-id-7 input.sk-hidden--visually {border: 0;clip: rect(1px 1px 1px 1px);clip: rect(1px, 1px, 1px, 1px);height: 1px;margin: -1px;overflow: hidden;padding: 0;position: absolute;width: 1px;}#sk-container-id-7 div.sk-estimator {font-family: monospace;background-color: #f0f8ff;border: 1px dotted black;border-radius: 0.25em;box-sizing: border-box;margin-bottom: 0.5em;}#sk-container-id-7 div.sk-estimator:hover {background-color: #d4ebff;}#sk-container-id-7 div.sk-parallel-item::after {content: \"\";width: 100%;border-bottom: 1px solid gray;flex-grow: 1;}#sk-container-id-7 div.sk-label:hover label.sk-toggleable__label {background-color: #d4ebff;}#sk-container-id-7 div.sk-serial::before {content: \"\";position: absolute;border-left: 1px solid gray;box-sizing: border-box;top: 0;bottom: 0;left: 50%;z-index: 0;}#sk-container-id-7 div.sk-serial {display: flex;flex-direction: column;align-items: center;background-color: white;padding-right: 0.2em;padding-left: 0.2em;position: relative;}#sk-container-id-7 div.sk-item {position: relative;z-index: 1;}#sk-container-id-7 div.sk-parallel {display: flex;align-items: stretch;justify-content: center;background-color: white;position: relative;}#sk-container-id-7 div.sk-item::before, #sk-container-id-7 div.sk-parallel-item::before {content: \"\";position: absolute;border-left: 1px solid gray;box-sizing: border-box;top: 0;bottom: 0;left: 50%;z-index: -1;}#sk-container-id-7 div.sk-parallel-item {display: flex;flex-direction: column;z-index: 1;position: relative;background-color: white;}#sk-container-id-7 div.sk-parallel-item:first-child::after {align-self: flex-end;width: 50%;}#sk-container-id-7 div.sk-parallel-item:last-child::after {align-self: flex-start;width: 50%;}#sk-container-id-7 div.sk-parallel-item:only-child::after {width: 0;}#sk-container-id-7 div.sk-dashed-wrapped {border: 1px dashed gray;margin: 0 0.4em 0.5em 0.4em;box-sizing: border-box;padding-bottom: 0.4em;background-color: white;}#sk-container-id-7 div.sk-label label {font-family: monospace;font-weight: bold;display: inline-block;line-height: 1.2em;}#sk-container-id-7 div.sk-label-container {text-align: center;}#sk-container-id-7 div.sk-container {/* jupyter's `normalize.less` sets `[hidden] { display: none; }` but bootstrap.min.css set `[hidden] { display: none !important; }` so we also need the `!important` here to be able to override the default hidden behavior on the sphinx rendered scikit-learn.org. See: https://github.com/scikit-learn/scikit-learn/issues/21755 */display: inline-block !important;position: relative;}#sk-container-id-7 div.sk-text-repr-fallback {display: none;}</style><div id=\"sk-container-id-7\" class=\"sk-top-container\"><div class=\"sk-text-repr-fallback\"><pre>LogisticRegression(penalty=&#x27;none&#x27;)</pre><b>In a Jupyter environment, please rerun this cell to show the HTML representation or trust the notebook. <br />On GitHub, the HTML representation is unable to render, please try loading this page with nbviewer.org.</b></div><div class=\"sk-container\" hidden><div class=\"sk-item\"><div class=\"sk-estimator sk-toggleable\"><input class=\"sk-toggleable__control sk-hidden--visually\" id=\"sk-estimator-id-7\" type=\"checkbox\" checked><label for=\"sk-estimator-id-7\" class=\"sk-toggleable__label sk-toggleable__label-arrow\">LogisticRegression</label><div class=\"sk-toggleable__content\"><pre>LogisticRegression(penalty=&#x27;none&#x27;)</pre></div></div></div></div></div>"
            ]
          },
          "metadata": {},
          "execution_count": 72
        }
      ]
    },
    {
      "cell_type": "code",
      "source": [
        "print('訓練データに対する正解率：', model.score(x_1, y_train))\n",
        "print('テストデータに対する正解率：', model.score(x_2, y_test))\n",
        "print('偏回帰係数：')\n",
        "print(pd.Series(model.coef_[0], index=x.columns))"
      ],
      "metadata": {
        "colab": {
          "base_uri": "https://localhost:8080/"
        },
        "id": "OFyqNo-L4PZZ",
        "outputId": "5dfb81c7-9e94-4cc6-c958-e6c30c67fa9b"
      },
      "execution_count": 73,
      "outputs": [
        {
          "output_type": "stream",
          "name": "stdout",
          "text": [
            "訓練データに対する正解率： 0.822051597051597\n",
            "テストデータに対する正解率： 0.8236594803758983\n",
            "偏回帰係数：\n",
            "age               0.555509\n",
            "education_num     0.837221\n",
            "sex               0.571282\n",
            "capital_gain      2.232030\n",
            "capital_loss      0.269173\n",
            "hours_per_week    0.406954\n",
            "dtype: float64\n"
          ]
        }
      ]
    },
    {
      "cell_type": "code",
      "source": [
        "# 自由記述用セル10\n",
        "# セルは必要に応じて追加して下さい。\n"
      ],
      "metadata": {
        "id": "zX_O9UCeo8Y8"
      },
      "execution_count": null,
      "outputs": []
    },
    {
      "cell_type": "markdown",
      "source": [
        "# 5. 模範解答"
      ],
      "metadata": {
        "id": "HEylIX1-gEf9"
      }
    },
    {
      "cell_type": "markdown",
      "source": [
        "\n",
        "\n",
        "```\n",
        "# 穴埋め用セル2（模範解答は最下部）\n",
        "# adult.csv を pandas の DataFrame オブジェクト df として読み込み\n",
        "df = pd.read_csv('adult.csv')\n",
        "```\n",
        "```\n",
        "# 穴埋め用セル5（模範解答は最下部）\n",
        "# 説明変数同士の相関係数の計算\n",
        "df[['age', 'education_num', 'capital_gain', 'capital_loss']].corr()\n",
        "```\n",
        "\n"
      ],
      "metadata": {
        "id": "ficXBQWhu6EH"
      }
    }
  ]
}