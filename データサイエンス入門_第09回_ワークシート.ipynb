{
  "nbformat": 4,
  "nbformat_minor": 0,
  "metadata": {
    "colab": {
      "provenance": [],
      "include_colab_link": true
    },
    "kernelspec": {
      "name": "python3",
      "display_name": "Python 3"
    },
    "language_info": {
      "name": "python"
    }
  },
  "cells": [
    {
      "cell_type": "markdown",
      "metadata": {
        "id": "view-in-github",
        "colab_type": "text"
      },
      "source": [
        "<a href=\"https://colab.research.google.com/github/Tomato-in-Japan/Subject_Fri1/blob/Homeworks/%E3%83%87%E3%83%BC%E3%82%BF%E3%82%B5%E3%82%A4%E3%82%A8%E3%83%B3%E3%82%B9%E5%85%A5%E9%96%80_%E7%AC%AC09%E5%9B%9E_%E3%83%AF%E3%83%BC%E3%82%AF%E3%82%B7%E3%83%BC%E3%83%88.ipynb\" target=\"_parent\"><img src=\"https://colab.research.google.com/assets/colab-badge.svg\" alt=\"Open In Colab\"/></a>"
      ]
    },
    {
      "cell_type": "markdown",
      "source": [
        "# 第9回 データサイエンス入門 ワークシート"
      ],
      "metadata": {
        "id": "Ou2g1v4d9F-u"
      }
    },
    {
      "cell_type": "markdown",
      "source": [
        "次のセルに「学籍番号」、「氏名」、「クラス」、「出席番号」を入力して下さい。"
      ],
      "metadata": {
        "id": "erYUrrTjWgIr"
      }
    },
    {
      "cell_type": "code",
      "source": [
        "# 学籍番号：b2220630　氏名：加賀大智　クラス：2A　出席番号：17"
      ],
      "metadata": {
        "id": "kynRz8nzX6j6"
      },
      "execution_count": null,
      "outputs": []
    },
    {
      "cell_type": "markdown",
      "source": [
        "# 1. 導入"
      ],
      "metadata": {
        "id": "DiTdNBUCnItQ"
      }
    },
    {
      "cell_type": "markdown",
      "source": [
        "## 1-1. 概要"
      ],
      "metadata": {
        "id": "jaPWGbkjntgW"
      }
    },
    {
      "cell_type": "markdown",
      "source": [
        "第7回～第8回では線形重回帰分析の基本について学びました。今回（第9回）は線形重回帰による実データの分析を行います。\n",
        "\n",
        "実データの分析では「異常値の削除」、「データ型の変換」などの”前処理”が必要です。\n",
        "本ワークシートの事前解説動画（講義ビデオ「９回目」）を用意していますので、確認してください。\n",
        "\n",
        "必要に応じて「ウェブなどで調べる」、「修学支援室／メディアコンサルタントで質問する」などしてください。"
      ],
      "metadata": {
        "id": "XE7QH8D1dl5n"
      }
    },
    {
      "cell_type": "markdown",
      "source": [
        "## 1-2. 本ワークシートの使い方"
      ],
      "metadata": {
        "id": "CFU3TeNPootB"
      }
    },
    {
      "cell_type": "markdown",
      "source": [
        "基本的に、ワークシート単体で学習が可能な設計になっています。\n",
        "\n",
        "1.   入力済みセル\n",
        "2.   穴埋め用セル\n",
        "3.   自由記述用セル\n",
        "\n",
        "がありますので、手を動かしながら学習を進めて下さい。"
      ],
      "metadata": {
        "id": "9Ht3eR20otgH"
      }
    },
    {
      "cell_type": "markdown",
      "source": [
        "## 1-3. ライブラリのインポート"
      ],
      "metadata": {
        "id": "90MjLVRdn1G6"
      }
    },
    {
      "cell_type": "markdown",
      "source": [
        "本ワークシートで使うライブラリをインポートします。以下のセルを実行して下さい。"
      ],
      "metadata": {
        "id": "GpgTbcvmciXw"
      }
    },
    {
      "cell_type": "code",
      "source": [
        "# データの加工・処理・分析ライブラリ\n",
        "import numpy as np\n",
        "import numpy.random as random\n",
        "import scipy as sp\n",
        "from pandas import Series, DataFrame\n",
        "import pandas as pd\n",
        "\n",
        "# 可視化ライブラリ\n",
        "import matplotlib.pyplot as plt\n",
        "import matplotlib as mpl\n",
        "import seaborn as sns\n",
        "%matplotlib inline\n",
        "\n",
        "# 機械学習ライブラリ\n",
        "import sklearn\n",
        "\n",
        "# 小数点第 3 位まで表示\n",
        "%precision 3"
      ],
      "metadata": {
        "id": "lWMwE3LhczUA",
        "colab": {
          "base_uri": "https://localhost:8080/",
          "height": 35
        },
        "outputId": "58de4f75-35b8-4cee-a463-50bb3113c54a"
      },
      "execution_count": 1,
      "outputs": [
        {
          "output_type": "execute_result",
          "data": {
            "text/plain": [
              "'%.3f'"
            ],
            "application/vnd.google.colaboratory.intrinsic+json": {
              "type": "string"
            }
          },
          "metadata": {},
          "execution_count": 1
        }
      ]
    },
    {
      "cell_type": "markdown",
      "source": [
        "# 2. 知識定着"
      ],
      "metadata": {
        "id": "6btD5TKkX0Vr"
      }
    },
    {
      "cell_type": "markdown",
      "source": [
        "## 2-1. 準備"
      ],
      "metadata": {
        "id": "ZdKlRpKM0eRY"
      }
    },
    {
      "cell_type": "markdown",
      "source": [
        "以下の URL で公開されている自動車の価格と付随する属性（自動車の重さなど）の分析を行います：\n",
        "\n",
        "https://networkrepository.com/autos-imports-85.php\n",
        "\n",
        "ポータルで再配布しているファイル「autos_data.csv」を利用してください。"
      ],
      "metadata": {
        "id": "3TGjqQUhoHO9"
      }
    },
    {
      "cell_type": "markdown",
      "source": [
        "第7回～第8回を参考に、csv ファイルを pandas の DataFrame として読み込んでください。"
      ],
      "metadata": {
        "id": "_AZuucK7pUMj"
      }
    },
    {
      "cell_type": "code",
      "source": [
        "# コード1（模範解答は最下部）\n",
        "# csv ファイルを pandas の DataFrame オブジェクト df として読み込み\n",
        "df = pd.read_csv('autos_data.csv')"
      ],
      "metadata": {
        "id": "am22n-Sadk_R"
      },
      "execution_count": 2,
      "outputs": []
    },
    {
      "cell_type": "markdown",
      "source": [
        "まずは df の中身を確認してみましょう。"
      ],
      "metadata": {
        "id": "n-h1qxQStxeG"
      }
    },
    {
      "cell_type": "code",
      "source": [
        "# コード2（模範解答は最下部）\n",
        "# df を表示\n",
        "print(df)"
      ],
      "metadata": {
        "id": "3B4od6siu4Yb",
        "colab": {
          "base_uri": "https://localhost:8080/"
        },
        "outputId": "b5d086fc-5952-4e1b-9f79-3bbbda81b7d3"
      },
      "execution_count": 3,
      "outputs": [
        {
          "output_type": "stream",
          "name": "stdout",
          "text": [
            "     symboling normalized_losses         make fuel_type aspiration  \\\n",
            "0            3                 ?  alfa-romero       gas        std   \n",
            "1            3                 ?  alfa-romero       gas        std   \n",
            "2            1                 ?  alfa-romero       gas        std   \n",
            "3            2               164         audi       gas        std   \n",
            "4            2               164         audi       gas        std   \n",
            "..         ...               ...          ...       ...        ...   \n",
            "200         -1                95        volvo       gas        std   \n",
            "201         -1                95        volvo       gas      turbo   \n",
            "202         -1                95        volvo       gas        std   \n",
            "203         -1                95        volvo    diesel      turbo   \n",
            "204         -1                95        volvo       gas      turbo   \n",
            "\n",
            "    num_of_doors   body_style drive_wheels engine_location  wheel_base  ...  \\\n",
            "0            two  convertible          rwd           front        88.6  ...   \n",
            "1            two  convertible          rwd           front        88.6  ...   \n",
            "2            two    hatchback          rwd           front        94.5  ...   \n",
            "3           four        sedan          fwd           front        99.8  ...   \n",
            "4           four        sedan          4wd           front        99.4  ...   \n",
            "..           ...          ...          ...             ...         ...  ...   \n",
            "200         four        sedan          rwd           front       109.1  ...   \n",
            "201         four        sedan          rwd           front       109.1  ...   \n",
            "202         four        sedan          rwd           front       109.1  ...   \n",
            "203         four        sedan          rwd           front       109.1  ...   \n",
            "204         four        sedan          rwd           front       109.1  ...   \n",
            "\n",
            "     engine_size  fuel_system  bore  stroke compression_ratio horsepower  \\\n",
            "0            130         mpfi  3.47    2.68               9.0        111   \n",
            "1            130         mpfi  3.47    2.68               9.0        111   \n",
            "2            152         mpfi  2.68    3.47               9.0        154   \n",
            "3            109         mpfi  3.19     3.4              10.0        102   \n",
            "4            136         mpfi  3.19     3.4               8.0        115   \n",
            "..           ...          ...   ...     ...               ...        ...   \n",
            "200          141         mpfi  3.78    3.15               9.5        114   \n",
            "201          141         mpfi  3.78    3.15               8.7        160   \n",
            "202          173         mpfi  3.58    2.87               8.8        134   \n",
            "203          145          idi  3.01     3.4              23.0        106   \n",
            "204          141         mpfi  3.78    3.15               9.5        114   \n",
            "\n",
            "     peak_rpm city_mpg highway_mpg  price  \n",
            "0        5000       21          27  13495  \n",
            "1        5000       21          27  16500  \n",
            "2        5000       19          26  16500  \n",
            "3        5500       24          30  13950  \n",
            "4        5500       18          22  17450  \n",
            "..        ...      ...         ...    ...  \n",
            "200      5400       23          28  16845  \n",
            "201      5300       19          25  19045  \n",
            "202      5500       18          23  21485  \n",
            "203      4800       26          27  22470  \n",
            "204      5400       19          25  22625  \n",
            "\n",
            "[205 rows x 26 columns]\n"
          ]
        }
      ]
    },
    {
      "cell_type": "markdown",
      "source": [
        "「205 rows × 26 columns」とあるので、205行、26列のデータであることが分かります。"
      ],
      "metadata": {
        "id": "3O5BX-YxvC1j"
      }
    },
    {
      "cell_type": "markdown",
      "source": [
        "## 2-2. 問題設定"
      ],
      "metadata": {
        "id": "GSAlAA__0G1R"
      }
    },
    {
      "cell_type": "markdown",
      "source": [
        "【例題】目的変数を「price」、説明変数を「horsepower、width、height」として、線形重回帰分析を実行せよ。"
      ],
      "metadata": {
        "id": "Gjg5r0m50zIe"
      }
    },
    {
      "cell_type": "markdown",
      "source": [
        "## 2-3. 前処理"
      ],
      "metadata": {
        "id": "XHSIquVI1NRS"
      }
    },
    {
      "cell_type": "markdown",
      "source": [
        "我々の目的は「horsepower、width、height」から「price」を予測する事なので、4 つのカラム「horsepower」、「width」、「height」、「price」以外は不要です。df から4 つのカラム「horsepower」、「width」、「height」、「price」以外を削除して下さい。"
      ],
      "metadata": {
        "id": "FEqW4ikX6QY1"
      }
    },
    {
      "cell_type": "code",
      "source": [
        "# コード3（模範解答は最下部）\n",
        "# 4 つのカラム「horsepower」、「width」、「height」、「price」以外を削除\n",
        "df=df[[\"horsepower\",\"width\",\"height\",\"price\"]]\n",
        "# df を表示（確認）\n",
        "print(df)"
      ],
      "metadata": {
        "id": "DGDY3RPZ6g-z",
        "colab": {
          "base_uri": "https://localhost:8080/"
        },
        "outputId": "4067100e-6332-46ed-89d1-7eff04d5c46c"
      },
      "execution_count": 7,
      "outputs": [
        {
          "output_type": "stream",
          "name": "stdout",
          "text": [
            "    horsepower  width  height  price\n",
            "0          111   64.1    48.8  13495\n",
            "1          111   64.1    48.8  16500\n",
            "2          154   65.5    52.4  16500\n",
            "3          102   66.2    54.3  13950\n",
            "4          115   66.4    54.3  17450\n",
            "..         ...    ...     ...    ...\n",
            "200        114   68.9    55.5  16845\n",
            "201        160   68.8    55.5  19045\n",
            "202        134   68.9    55.5  21485\n",
            "203        106   68.9    55.5  22470\n",
            "204        114   68.9    55.5  22625\n",
            "\n",
            "[205 rows x 4 columns]\n"
          ]
        }
      ]
    },
    {
      "cell_type": "markdown",
      "source": [
        "## 2-3-1. 異常値の削除"
      ],
      "metadata": {
        "id": "QOlNbTMK1f_3"
      }
    },
    {
      "cell_type": "markdown",
      "source": [
        "「2-1. 準備」で「df を表示」しました。このとき、データの中に「?」という成分がある事が分かります。これは”欠損値”あるいは”異常値”です。\n",
        "実際のデータ分析でも、生のデータを眺める事は重要です。\n",
        "\n",
        "各カラムに「?」が何個あるかカウントします。以下のセルを実行してください。"
      ],
      "metadata": {
        "id": "BpyIeufd14ZH"
      }
    },
    {
      "cell_type": "code",
      "source": [
        "# 各カラムに「?」が何個あるかカウント\n",
        "df.isin(['?']).sum()"
      ],
      "metadata": {
        "id": "HWmezoDC13on",
        "colab": {
          "base_uri": "https://localhost:8080/"
        },
        "outputId": "08cd99d2-2536-4aa2-a162-9818a6e19297"
      },
      "execution_count": 8,
      "outputs": [
        {
          "output_type": "execute_result",
          "data": {
            "text/plain": [
              "horsepower    2\n",
              "width         0\n",
              "height        0\n",
              "price         4\n",
              "dtype: int64"
            ]
          },
          "metadata": {},
          "execution_count": 8
        }
      ]
    },
    {
      "cell_type": "markdown",
      "source": [
        "「?」がある行を削除します。以下のセルを実行して下さい。"
      ],
      "metadata": {
        "id": "LXCmnKtu8f9t"
      }
    },
    {
      "cell_type": "code",
      "source": [
        "# 「?」がある行を削除\n",
        "df = df.replace('?', np.nan).dropna()\n",
        "\n",
        "# 各カラムに「?」が何個あるかカウント\n",
        "df.isin(['?']).sum()"
      ],
      "metadata": {
        "id": "cS3pjSl09Lf0",
        "colab": {
          "base_uri": "https://localhost:8080/"
        },
        "outputId": "500139ac-65b1-4098-ab56-90c0d7233d2a"
      },
      "execution_count": 9,
      "outputs": [
        {
          "output_type": "execute_result",
          "data": {
            "text/plain": [
              "horsepower    0\n",
              "width         0\n",
              "height        0\n",
              "price         0\n",
              "dtype: int64"
            ]
          },
          "metadata": {},
          "execution_count": 9
        }
      ]
    },
    {
      "cell_type": "markdown",
      "source": [
        "## 2-3-2 データ型の変換"
      ],
      "metadata": {
        "id": "hvjOFUgI_AYf"
      }
    },
    {
      "cell_type": "markdown",
      "source": [
        "以下のセルを実行して下さい。"
      ],
      "metadata": {
        "id": "MwgRKgOp_U_e"
      }
    },
    {
      "cell_type": "code",
      "source": [
        "# df のデータ型の確認\n",
        "df.dtypes"
      ],
      "metadata": {
        "id": "U0cNdU9z_gjb",
        "colab": {
          "base_uri": "https://localhost:8080/"
        },
        "outputId": "03e767d4-734e-449b-c154-5424cff3a94f"
      },
      "execution_count": 10,
      "outputs": [
        {
          "output_type": "execute_result",
          "data": {
            "text/plain": [
              "horsepower     object\n",
              "width         float64\n",
              "height        float64\n",
              "price          object\n",
              "dtype: object"
            ]
          },
          "metadata": {},
          "execution_count": 10
        }
      ]
    },
    {
      "cell_type": "markdown",
      "source": [
        "2つのカラム「price」、「horsepower」が数値型ではないので、to_numeric を使って数値型に変換します。以下のセルを実行して下さい。"
      ],
      "metadata": {
        "id": "3vhQOG81_sEN"
      }
    },
    {
      "cell_type": "code",
      "source": [
        "df = df.assign(price=pd.to_numeric(df.price))\n",
        "df = df.assign(horsepower=pd.to_numeric(df.horsepower))"
      ],
      "metadata": {
        "id": "gSFYIcGoACMc"
      },
      "execution_count": 11,
      "outputs": []
    },
    {
      "cell_type": "markdown",
      "source": [
        "実際のデータの分析においても、このようにデータの型が整っていない事があるので注意が必要です。\n",
        "\n",
        "変更後の df のデータ型を確認して下さい。"
      ],
      "metadata": {
        "id": "HGs9QzgYAUYi"
      }
    },
    {
      "cell_type": "code",
      "source": [
        "# コード4（模範解答は最下部）\n",
        "# df のデータ型の確認\n",
        "df.dtypes"
      ],
      "metadata": {
        "id": "u3mdIOzgAubS",
        "colab": {
          "base_uri": "https://localhost:8080/"
        },
        "outputId": "24cf49ca-afaf-4f04-ff9c-eada781eb112"
      },
      "execution_count": 13,
      "outputs": [
        {
          "output_type": "execute_result",
          "data": {
            "text/plain": [
              "horsepower      int64\n",
              "width         float64\n",
              "height        float64\n",
              "price           int64\n",
              "dtype: object"
            ]
          },
          "metadata": {},
          "execution_count": 13
        }
      ]
    },
    {
      "cell_type": "markdown",
      "source": [
        "## 2-3-3 相関係数の確認"
      ],
      "metadata": {
        "id": "Aqd3txkWC611"
      }
    },
    {
      "cell_type": "markdown",
      "source": [
        "以下のセルを実行して下さい。"
      ],
      "metadata": {
        "id": "fN915nRMDOHC"
      }
    },
    {
      "cell_type": "code",
      "source": [
        "# コード5（模範解答は最下部）\n",
        "# 各カラム（列）同士の相関係数の計算\n",
        "df.corr()"
      ],
      "metadata": {
        "id": "3HkzGkxtDNXQ",
        "colab": {
          "base_uri": "https://localhost:8080/",
          "height": 175
        },
        "outputId": "42f2a8fb-3762-4852-cc84-1381b92e6c57"
      },
      "execution_count": 15,
      "outputs": [
        {
          "output_type": "execute_result",
          "data": {
            "text/plain": [
              "            horsepower     width    height     price\n",
              "horsepower    1.000000  0.615315 -0.087407  0.810533\n",
              "width         0.615315  1.000000  0.309223  0.753871\n",
              "height       -0.087407  0.309223  1.000000  0.134990\n",
              "price         0.810533  0.753871  0.134990  1.000000"
            ],
            "text/html": [
              "\n",
              "  <div id=\"df-555b951a-c0af-4477-ae07-82ceb3c8ee0c\">\n",
              "    <div class=\"colab-df-container\">\n",
              "      <div>\n",
              "<style scoped>\n",
              "    .dataframe tbody tr th:only-of-type {\n",
              "        vertical-align: middle;\n",
              "    }\n",
              "\n",
              "    .dataframe tbody tr th {\n",
              "        vertical-align: top;\n",
              "    }\n",
              "\n",
              "    .dataframe thead th {\n",
              "        text-align: right;\n",
              "    }\n",
              "</style>\n",
              "<table border=\"1\" class=\"dataframe\">\n",
              "  <thead>\n",
              "    <tr style=\"text-align: right;\">\n",
              "      <th></th>\n",
              "      <th>horsepower</th>\n",
              "      <th>width</th>\n",
              "      <th>height</th>\n",
              "      <th>price</th>\n",
              "    </tr>\n",
              "  </thead>\n",
              "  <tbody>\n",
              "    <tr>\n",
              "      <th>horsepower</th>\n",
              "      <td>1.000000</td>\n",
              "      <td>0.615315</td>\n",
              "      <td>-0.087407</td>\n",
              "      <td>0.810533</td>\n",
              "    </tr>\n",
              "    <tr>\n",
              "      <th>width</th>\n",
              "      <td>0.615315</td>\n",
              "      <td>1.000000</td>\n",
              "      <td>0.309223</td>\n",
              "      <td>0.753871</td>\n",
              "    </tr>\n",
              "    <tr>\n",
              "      <th>height</th>\n",
              "      <td>-0.087407</td>\n",
              "      <td>0.309223</td>\n",
              "      <td>1.000000</td>\n",
              "      <td>0.134990</td>\n",
              "    </tr>\n",
              "    <tr>\n",
              "      <th>price</th>\n",
              "      <td>0.810533</td>\n",
              "      <td>0.753871</td>\n",
              "      <td>0.134990</td>\n",
              "      <td>1.000000</td>\n",
              "    </tr>\n",
              "  </tbody>\n",
              "</table>\n",
              "</div>\n",
              "      <button class=\"colab-df-convert\" onclick=\"convertToInteractive('df-555b951a-c0af-4477-ae07-82ceb3c8ee0c')\"\n",
              "              title=\"Convert this dataframe to an interactive table.\"\n",
              "              style=\"display:none;\">\n",
              "        \n",
              "  <svg xmlns=\"http://www.w3.org/2000/svg\" height=\"24px\"viewBox=\"0 0 24 24\"\n",
              "       width=\"24px\">\n",
              "    <path d=\"M0 0h24v24H0V0z\" fill=\"none\"/>\n",
              "    <path d=\"M18.56 5.44l.94 2.06.94-2.06 2.06-.94-2.06-.94-.94-2.06-.94 2.06-2.06.94zm-11 1L8.5 8.5l.94-2.06 2.06-.94-2.06-.94L8.5 2.5l-.94 2.06-2.06.94zm10 10l.94 2.06.94-2.06 2.06-.94-2.06-.94-.94-2.06-.94 2.06-2.06.94z\"/><path d=\"M17.41 7.96l-1.37-1.37c-.4-.4-.92-.59-1.43-.59-.52 0-1.04.2-1.43.59L10.3 9.45l-7.72 7.72c-.78.78-.78 2.05 0 2.83L4 21.41c.39.39.9.59 1.41.59.51 0 1.02-.2 1.41-.59l7.78-7.78 2.81-2.81c.8-.78.8-2.07 0-2.86zM5.41 20L4 18.59l7.72-7.72 1.47 1.35L5.41 20z\"/>\n",
              "  </svg>\n",
              "      </button>\n",
              "      \n",
              "  <style>\n",
              "    .colab-df-container {\n",
              "      display:flex;\n",
              "      flex-wrap:wrap;\n",
              "      gap: 12px;\n",
              "    }\n",
              "\n",
              "    .colab-df-convert {\n",
              "      background-color: #E8F0FE;\n",
              "      border: none;\n",
              "      border-radius: 50%;\n",
              "      cursor: pointer;\n",
              "      display: none;\n",
              "      fill: #1967D2;\n",
              "      height: 32px;\n",
              "      padding: 0 0 0 0;\n",
              "      width: 32px;\n",
              "    }\n",
              "\n",
              "    .colab-df-convert:hover {\n",
              "      background-color: #E2EBFA;\n",
              "      box-shadow: 0px 1px 2px rgba(60, 64, 67, 0.3), 0px 1px 3px 1px rgba(60, 64, 67, 0.15);\n",
              "      fill: #174EA6;\n",
              "    }\n",
              "\n",
              "    [theme=dark] .colab-df-convert {\n",
              "      background-color: #3B4455;\n",
              "      fill: #D2E3FC;\n",
              "    }\n",
              "\n",
              "    [theme=dark] .colab-df-convert:hover {\n",
              "      background-color: #434B5C;\n",
              "      box-shadow: 0px 1px 3px 1px rgba(0, 0, 0, 0.15);\n",
              "      filter: drop-shadow(0px 1px 2px rgba(0, 0, 0, 0.3));\n",
              "      fill: #FFFFFF;\n",
              "    }\n",
              "  </style>\n",
              "\n",
              "      <script>\n",
              "        const buttonEl =\n",
              "          document.querySelector('#df-555b951a-c0af-4477-ae07-82ceb3c8ee0c button.colab-df-convert');\n",
              "        buttonEl.style.display =\n",
              "          google.colab.kernel.accessAllowed ? 'block' : 'none';\n",
              "\n",
              "        async function convertToInteractive(key) {\n",
              "          const element = document.querySelector('#df-555b951a-c0af-4477-ae07-82ceb3c8ee0c');\n",
              "          const dataTable =\n",
              "            await google.colab.kernel.invokeFunction('convertToInteractive',\n",
              "                                                     [key], {});\n",
              "          if (!dataTable) return;\n",
              "\n",
              "          const docLinkHtml = 'Like what you see? Visit the ' +\n",
              "            '<a target=\"_blank\" href=https://colab.research.google.com/notebooks/data_table.ipynb>data table notebook</a>'\n",
              "            + ' to learn more about interactive tables.';\n",
              "          element.innerHTML = '';\n",
              "          dataTable['output_type'] = 'display_data';\n",
              "          await google.colab.output.renderOutput(dataTable, element);\n",
              "          const docLink = document.createElement('div');\n",
              "          docLink.innerHTML = docLinkHtml;\n",
              "          element.appendChild(docLink);\n",
              "        }\n",
              "      </script>\n",
              "    </div>\n",
              "  </div>\n",
              "  "
            ]
          },
          "metadata": {},
          "execution_count": 15
        }
      ]
    },
    {
      "cell_type": "markdown",
      "source": [
        "ここで注目するべきなのは、説明変数「horsepower」、「width」、「height」同士の相関係数です。\n",
        "\n",
        "なぜならば、多重共線性が生じる可能性を考慮しなければならないからです。\n",
        "\n",
        "多重共線性とは、重回帰において、説明変数の中に相関係数が高い組み合わせが存在することいいます。このとき、偏回帰係数の分散が大きくなり、係数の有意性が失われます。\n",
        "\n",
        "ここでは、「width」と「horsepower」の相関係数が 0.615315 とやや高めですが、このままモデルを構築します。"
      ],
      "metadata": {
        "id": "cjfWMkoLD0UT"
      }
    },
    {
      "cell_type": "markdown",
      "source": [
        "## 2-4 モデルの構築と評価"
      ],
      "metadata": {
        "id": "Fz5aqrmqGpC5"
      }
    },
    {
      "cell_type": "markdown",
      "source": [
        "データの前処理が終わったのでモデルの構築を行います。ここからが機械学習（重回帰）の本番です。\n",
        "\n",
        "機械学習ライブラリ「scikit-learn」を使用する事により、「重回帰」を簡単に実装する事が出来ます。\n",
        "\n",
        "今回は「訓練データ：テストデータ＝５：５」とし、訓練データを標準化します。"
      ],
      "metadata": {
        "id": "VFXg3F_mG2fO"
      }
    },
    {
      "cell_type": "code",
      "source": [
        "# 必要なライブラリのインポート\n",
        "from sklearn.model_selection import train_test_split\n",
        "from sklearn.linear_model import LinearRegression\n",
        "\n",
        "# 目的変数に「price」、説明変数に「horsepower」、「width」、「height」を指定\n",
        "x = df.drop('price', axis=1)\n",
        "y = df['price']\n",
        "\n",
        "# データを訓練データとテストデータに分ける\n",
        "x_train, x_test, y_train, y_test = train_test_split(x, y, test_size=0.5, random_state=0)"
      ],
      "metadata": {
        "id": "f58vi3pLNzqx"
      },
      "execution_count": 16,
      "outputs": []
    },
    {
      "cell_type": "markdown",
      "source": [
        "x_train と x_test を標準化し、x_train を表示してください。"
      ],
      "metadata": {
        "id": "1DRIw9-lzMyD"
      }
    },
    {
      "cell_type": "code",
      "source": [
        "# コード6（模範解答は最下部）\n",
        "# データを標準化するライブラリのインポート\n",
        "from sklearn import preprocessing\n",
        "ss=preprocessing.StandardScaler()\n",
        "\n",
        "# x_train を標準化し x_train に格納\n",
        "ss.fit(x_train)\n",
        "x_train=ss.transform(x_train)\n",
        "\n",
        "# x_test を標準化し x_test に格納\n",
        "ss.fit(x_test)\n",
        "x_test=ss.transform(x_test)\n",
        "\n",
        "# x_train を表示\n",
        "print(x_train)"
      ],
      "metadata": {
        "id": "FYvAuntcyj--",
        "colab": {
          "base_uri": "https://localhost:8080/"
        },
        "outputId": "49e1670e-61b1-48db-87e7-15192e4a23cb"
      },
      "execution_count": 21,
      "outputs": [
        {
          "output_type": "stream",
          "name": "stdout",
          "text": [
            "[[ 0.362  0.646  1.027]\n",
            " [-0.985 -0.721  0.194]\n",
            " [ 0.274 -0.766 -1.908]\n",
            " [-0.956 -0.903 -0.044]\n",
            " [-0.195  1.193  1.225]\n",
            " [-0.956 -0.903 -0.123]\n",
            " [ 0.625  2.059  1.146]\n",
            " [-0.224 -0.174 -0.242]\n",
            " [-0.048  0.099 -1.036]\n",
            " [ 1.562  2.15  -1.115]\n",
            " [-0.985 -0.721  0.194]\n",
            " [-0.985 -0.721  0.194]\n",
            " [ 0.42  -0.174 -0.798]\n",
            " [ 0.567  0.51   0.828]\n",
            " [-0.927 -0.63  -0.242]\n",
            " [-0.985 -0.903 -1.194]\n",
            " [ 0.245  0.51   0.59 ]\n",
            " [-0.839 -0.903  0.828]\n",
            " [-0.985 -0.903 -1.115]\n",
            " [ 2.352  0.965  0.035]\n",
            " [-0.4   -0.174 -1.67 ]\n",
            " [-0.136  1.193  1.225]\n",
            " [-0.019 -0.037 -1.591]\n",
            " [ 1.474  0.327  0.59 ]\n",
            " [ 0.01  -0.903 -1.115]\n",
            " [ 0.01   0.191  0.273]\n",
            " [ 0.01  -0.903 -1.115]\n",
            " [ 0.42  -0.083 -0.639]\n",
            " [ 0.127  1.421  0.749]\n",
            " [ 0.245  2.56   0.828]\n",
            " [ 1.562  2.697  1.146]\n",
            " [ 0.42  -0.174 -0.798]\n",
            " [ 1.269  0.236 -1.353]\n",
            " [-0.927 -0.63  -0.242]\n",
            " [-0.282  0.327  0.511]\n",
            " [-0.927 -0.63  -0.322]\n",
            " [-0.956 -0.903  0.353]\n",
            " [-0.282  0.327  0.115]\n",
            " [ 0.567 -0.447  0.273]\n",
            " [-0.985 -0.903 -1.115]\n",
            " [ 2.879  0.965 -1.551]\n",
            " [-0.751 -0.858  1.86 ]\n",
            " [-0.517  0.327  0.749]\n",
            " [ 0.625  2.059  2.018]\n",
            " [ 0.274 -0.766 -1.908]\n",
            " [-0.4   -0.539  2.454]\n",
            " [ 0.42  -0.083 -0.639]\n",
            " [-0.692 -1.815 -0.044]\n",
            " [-0.195  1.193  1.225]\n",
            " [-0.956 -1.085  0.035]\n",
            " [ 0.362  1.421  0.749]\n",
            " [-1.571 -2.498 -0.163]\n",
            " [-0.458 -0.265  0.194]\n",
            " [-0.839 -0.994  0.035]\n",
            " [-0.019 -0.037 -1.591]\n",
            " [-0.927 -0.63  -0.322]\n",
            " [ 0.245  0.327  0.987]\n",
            " [-0.751 -0.812  0.353]\n",
            " [ 1.269  0.236 -1.353]\n",
            " [ 1.181  1.148  0.947]\n",
            " [-0.927 -0.63  -0.322]\n",
            " [-1.219 -0.812 -0.401]\n",
            " [-0.487 -0.128  0.828]\n",
            " [ 0.245  0.327  0.987]\n",
            " [ 1.591  0.327  0.194]\n",
            " [-0.751 -0.812 -0.401]\n",
            " [-0.575 -0.174  0.511]\n",
            " [-0.839  0.327  0.511]\n",
            " [-1.161 -0.994  2.177]\n",
            " [-1.278 -0.858 -1.115]\n",
            " [ 1.474  0.327  0.987]\n",
            " [-0.4   -0.174 -0.798]\n",
            " [ 1.269  0.236 -1.353]\n",
            " [-0.985 -0.903 -1.115]\n",
            " [-1.161 -0.994  2.177]\n",
            " [ 1.708  1.375  0.749]\n",
            " [ 2.148  1.011  0.471]\n",
            " [ 0.42  -0.174 -1.67 ]\n",
            " [-0.985 -0.903 -1.194]\n",
            " [ 0.42  -0.083 -0.639]\n",
            " [ 1.269  0.236 -1.353]\n",
            " [-0.4    0.51   0.59 ]\n",
            " [ 1.591  0.327  0.194]\n",
            " [ 0.362  0.646  1.542]\n",
            " [-0.458 -1.496  0.194]\n",
            " [-0.517  0.327  0.035]\n",
            " [-0.575 -0.174 -0.242]\n",
            " [-0.956 -0.903  0.353]\n",
            " [ 2.411  2.697  1.225]\n",
            " [-1.366 -0.903  0.353]\n",
            " [-0.458 -0.265 -0.123]\n",
            " [-0.985 -0.903 -1.115]\n",
            " [-0.019 -0.447  0.273]\n",
            " [ 1.708  0.965 -1.551]\n",
            " [ 0.625  2.697  1.066]\n",
            " [ 1.767  0.646  1.027]\n",
            " [-0.985 -0.903 -1.194]\n",
            " [-0.985 -0.721  0.194]\n",
            " [ 1.738  0.874 -0.639]]\n"
          ]
        }
      ]
    },
    {
      "cell_type": "markdown",
      "source": [
        "第08回を参考に、モデルの初期化と学習を実施してください。"
      ],
      "metadata": {
        "id": "YDbAJBA_zmyo"
      }
    },
    {
      "cell_type": "code",
      "source": [
        "# コード7（模範解答は最下部）\n",
        "# モデルの初期化と学習\n",
        "model=LinearRegression()\n",
        "model.fit(x_train,y_train)"
      ],
      "metadata": {
        "id": "ZMopFKpRyl3B",
        "colab": {
          "base_uri": "https://localhost:8080/",
          "height": 75
        },
        "outputId": "c0fe1f32-c556-4d74-d76e-37aac1261428"
      },
      "execution_count": 25,
      "outputs": [
        {
          "output_type": "execute_result",
          "data": {
            "text/plain": [
              "LinearRegression()"
            ],
            "text/html": [
              "<style>#sk-container-id-2 {color: black;background-color: white;}#sk-container-id-2 pre{padding: 0;}#sk-container-id-2 div.sk-toggleable {background-color: white;}#sk-container-id-2 label.sk-toggleable__label {cursor: pointer;display: block;width: 100%;margin-bottom: 0;padding: 0.3em;box-sizing: border-box;text-align: center;}#sk-container-id-2 label.sk-toggleable__label-arrow:before {content: \"▸\";float: left;margin-right: 0.25em;color: #696969;}#sk-container-id-2 label.sk-toggleable__label-arrow:hover:before {color: black;}#sk-container-id-2 div.sk-estimator:hover label.sk-toggleable__label-arrow:before {color: black;}#sk-container-id-2 div.sk-toggleable__content {max-height: 0;max-width: 0;overflow: hidden;text-align: left;background-color: #f0f8ff;}#sk-container-id-2 div.sk-toggleable__content pre {margin: 0.2em;color: black;border-radius: 0.25em;background-color: #f0f8ff;}#sk-container-id-2 input.sk-toggleable__control:checked~div.sk-toggleable__content {max-height: 200px;max-width: 100%;overflow: auto;}#sk-container-id-2 input.sk-toggleable__control:checked~label.sk-toggleable__label-arrow:before {content: \"▾\";}#sk-container-id-2 div.sk-estimator input.sk-toggleable__control:checked~label.sk-toggleable__label {background-color: #d4ebff;}#sk-container-id-2 div.sk-label input.sk-toggleable__control:checked~label.sk-toggleable__label {background-color: #d4ebff;}#sk-container-id-2 input.sk-hidden--visually {border: 0;clip: rect(1px 1px 1px 1px);clip: rect(1px, 1px, 1px, 1px);height: 1px;margin: -1px;overflow: hidden;padding: 0;position: absolute;width: 1px;}#sk-container-id-2 div.sk-estimator {font-family: monospace;background-color: #f0f8ff;border: 1px dotted black;border-radius: 0.25em;box-sizing: border-box;margin-bottom: 0.5em;}#sk-container-id-2 div.sk-estimator:hover {background-color: #d4ebff;}#sk-container-id-2 div.sk-parallel-item::after {content: \"\";width: 100%;border-bottom: 1px solid gray;flex-grow: 1;}#sk-container-id-2 div.sk-label:hover label.sk-toggleable__label {background-color: #d4ebff;}#sk-container-id-2 div.sk-serial::before {content: \"\";position: absolute;border-left: 1px solid gray;box-sizing: border-box;top: 0;bottom: 0;left: 50%;z-index: 0;}#sk-container-id-2 div.sk-serial {display: flex;flex-direction: column;align-items: center;background-color: white;padding-right: 0.2em;padding-left: 0.2em;position: relative;}#sk-container-id-2 div.sk-item {position: relative;z-index: 1;}#sk-container-id-2 div.sk-parallel {display: flex;align-items: stretch;justify-content: center;background-color: white;position: relative;}#sk-container-id-2 div.sk-item::before, #sk-container-id-2 div.sk-parallel-item::before {content: \"\";position: absolute;border-left: 1px solid gray;box-sizing: border-box;top: 0;bottom: 0;left: 50%;z-index: -1;}#sk-container-id-2 div.sk-parallel-item {display: flex;flex-direction: column;z-index: 1;position: relative;background-color: white;}#sk-container-id-2 div.sk-parallel-item:first-child::after {align-self: flex-end;width: 50%;}#sk-container-id-2 div.sk-parallel-item:last-child::after {align-self: flex-start;width: 50%;}#sk-container-id-2 div.sk-parallel-item:only-child::after {width: 0;}#sk-container-id-2 div.sk-dashed-wrapped {border: 1px dashed gray;margin: 0 0.4em 0.5em 0.4em;box-sizing: border-box;padding-bottom: 0.4em;background-color: white;}#sk-container-id-2 div.sk-label label {font-family: monospace;font-weight: bold;display: inline-block;line-height: 1.2em;}#sk-container-id-2 div.sk-label-container {text-align: center;}#sk-container-id-2 div.sk-container {/* jupyter's `normalize.less` sets `[hidden] { display: none; }` but bootstrap.min.css set `[hidden] { display: none !important; }` so we also need the `!important` here to be able to override the default hidden behavior on the sphinx rendered scikit-learn.org. See: https://github.com/scikit-learn/scikit-learn/issues/21755 */display: inline-block !important;position: relative;}#sk-container-id-2 div.sk-text-repr-fallback {display: none;}</style><div id=\"sk-container-id-2\" class=\"sk-top-container\"><div class=\"sk-text-repr-fallback\"><pre>LinearRegression()</pre><b>In a Jupyter environment, please rerun this cell to show the HTML representation or trust the notebook. <br />On GitHub, the HTML representation is unable to render, please try loading this page with nbviewer.org.</b></div><div class=\"sk-container\" hidden><div class=\"sk-item\"><div class=\"sk-estimator sk-toggleable\"><input class=\"sk-toggleable__control sk-hidden--visually\" id=\"sk-estimator-id-2\" type=\"checkbox\" checked><label for=\"sk-estimator-id-2\" class=\"sk-toggleable__label sk-toggleable__label-arrow\">LinearRegression</label><div class=\"sk-toggleable__content\"><pre>LinearRegression()</pre></div></div></div></div></div>"
            ]
          },
          "metadata": {},
          "execution_count": 25
        }
      ]
    },
    {
      "cell_type": "markdown",
      "source": [
        "以上で学習は完了です。\n",
        "\n",
        "学習結果の評価を行います。score メソッドを利用する事により決定係数を計算できます。\n",
        "\n",
        "決定係数はデータに対する、推定されたモデルの当てはまりの良さ（度合い）を表し、$0$ から $1$ までの値をとります。$1$ に近いほど、当てはまりが良いです。\n",
        "\n",
        "ここで、「決定係数はいくつ以上なら良いのか？」という疑問が生じますが、この問いに対する絶対的な回答は存在しません。\n",
        "\n",
        "ここでは、参考として「$R^2 \\geq 0.8$：精度良い」、「$R^2 \\geq 0.5$：精度やや良い」、「$R^2 < 0.5$：精度良くない」という基準を紹介します（cf. https://istat.co.jp/ta_commentary/multiple_02 ）。\n",
        "\n",
        "では、実際に決定係数を計算してみましょう。以下のセルを実行して下さい。"
      ],
      "metadata": {
        "id": "e0KyuU6gPKiT"
      }
    },
    {
      "cell_type": "code",
      "source": [
        "print('訓練データに対する決定係数：', model.score(x_train, y_train))\n",
        "print('テストデータに対する決定係数：', model.score(x_test, y_test))"
      ],
      "metadata": {
        "id": "cDa3n6cZQAg_",
        "colab": {
          "base_uri": "https://localhost:8080/"
        },
        "outputId": "17167af8-e9d5-4041-9d02-6ebccdfccf1f"
      },
      "execution_count": 26,
      "outputs": [
        {
          "output_type": "stream",
          "name": "stdout",
          "text": [
            "訓練データに対する決定係数： 0.7333575683901377\n",
            "テストデータに対する決定係数： 0.6836797149339668\n"
          ]
        }
      ]
    },
    {
      "cell_type": "markdown",
      "source": [
        "「訓練データに対する決定係数」と「テストデータに対する決定係数」が近い値を取っている事から、過学習が起きていないと判断出来ます。\n",
        "\n",
        "過学習とは、機械学習で、訓練データに対してあまりに適合し過ぎて本来データが示唆する傾向から大きく外れてしまう現象です。つまり、未知のデータに対する予測が適切に行えない状態です。"
      ],
      "metadata": {
        "id": "yy5FqGimWTfP"
      }
    },
    {
      "cell_type": "markdown",
      "source": [
        "標準化した説明変数から算出される偏回帰係数を**標準偏回帰係数**と呼びます。標準偏回帰係数は各変数の重要度を表す指標であり、大小の比較に意味があります。"
      ],
      "metadata": {
        "id": "p2wi945R1ec4"
      }
    },
    {
      "cell_type": "markdown",
      "source": [
        "また、以下のコードを実行すると、偏回帰係数を確認することが出来ます。"
      ],
      "metadata": {
        "id": "ovskmuR6Tjev"
      }
    },
    {
      "cell_type": "code",
      "source": [
        "# 偏回帰係数\n",
        "pd.Series(model.coef_, index=x.columns)"
      ],
      "metadata": {
        "id": "nCbgw9bcTwLU",
        "colab": {
          "base_uri": "https://localhost:8080/"
        },
        "outputId": "7e262a00-ec6d-4aa7-dcb4-6373b0cb41b4"
      },
      "execution_count": 27,
      "outputs": [
        {
          "output_type": "execute_result",
          "data": {
            "text/plain": [
              "horsepower    2788.946965\n",
              "width         4013.955388\n",
              "height         578.718631\n",
              "dtype: float64"
            ]
          },
          "metadata": {},
          "execution_count": 27
        }
      ]
    },
    {
      "cell_type": "code",
      "source": [
        "# 偏回帰係数（定数項、切片）\n",
        "model.intercept_"
      ],
      "metadata": {
        "id": "esnL-ghPUBVi",
        "colab": {
          "base_uri": "https://localhost:8080/"
        },
        "outputId": "8dd35110-813c-4e45-bd4d-93475b14a492"
      },
      "execution_count": 28,
      "outputs": [
        {
          "output_type": "execute_result",
          "data": {
            "text/plain": [
              "12521.212121212122"
            ]
          },
          "metadata": {},
          "execution_count": 28
        }
      ]
    },
    {
      "cell_type": "markdown",
      "source": [
        "# 3. 知識活用（課題）"
      ],
      "metadata": {
        "id": "a4xl6rlYZ76I"
      }
    },
    {
      "cell_type": "markdown",
      "source": [
        "【問題】目的変数を「price」、説明変数を「width、engine_size」として、線形重回帰分析を実行し、決定係数を求めよ。ただし、$(訓練データ):(テストデータ) = 7:3$ および random_state=0 とし、説明変数は標準化せよ。"
      ],
      "metadata": {
        "id": "Qb5Qvc2VJtli"
      }
    },
    {
      "cell_type": "code",
      "source": [
        "# セルは必要に応じて追加して下さい。\n",
        "dfa = pd.read_csv('autos_data.csv')\n",
        "df=dfa[[\"width\",\"engine_size\",\"price\"]]\n",
        "df.isin(['?']).sum()\n",
        "df = df.replace('?', np.nan).dropna()\n",
        "df.isin(['?']).sum()\n",
        "df.dtypes"
      ],
      "metadata": {
        "id": "I-WiS92mNZjd",
        "colab": {
          "base_uri": "https://localhost:8080/"
        },
        "outputId": "9ac0e0cf-8cde-4dec-c196-c84ee696e50c"
      },
      "execution_count": 103,
      "outputs": [
        {
          "output_type": "execute_result",
          "data": {
            "text/plain": [
              "width          float64\n",
              "engine_size      int64\n",
              "price           object\n",
              "dtype: object"
            ]
          },
          "metadata": {},
          "execution_count": 103
        }
      ]
    },
    {
      "cell_type": "code",
      "source": [
        "df = df.assign(price=pd.to_numeric(df.price))\n",
        "df.dtypes"
      ],
      "metadata": {
        "colab": {
          "base_uri": "https://localhost:8080/"
        },
        "id": "SdWT0mOYfptC",
        "outputId": "5cc9f004-176b-4a7e-f866-b0851a0b4e01"
      },
      "execution_count": 104,
      "outputs": [
        {
          "output_type": "execute_result",
          "data": {
            "text/plain": [
              "width          float64\n",
              "engine_size      int64\n",
              "price            int64\n",
              "dtype: object"
            ]
          },
          "metadata": {},
          "execution_count": 104
        }
      ]
    },
    {
      "cell_type": "code",
      "source": [
        "df.corr()"
      ],
      "metadata": {
        "colab": {
          "base_uri": "https://localhost:8080/",
          "height": 143
        },
        "id": "8gG6AyTygCBV",
        "outputId": "23f94882-0889-4a70-ebd4-2a70625614d8"
      },
      "execution_count": 105,
      "outputs": [
        {
          "output_type": "execute_result",
          "data": {
            "text/plain": [
              "                width  engine_size     price\n",
              "width        1.000000     0.729436  0.751265\n",
              "engine_size  0.729436     1.000000  0.872335\n",
              "price        0.751265     0.872335  1.000000"
            ],
            "text/html": [
              "\n",
              "  <div id=\"df-3384ea68-1353-4ab2-9af3-bc139140564d\">\n",
              "    <div class=\"colab-df-container\">\n",
              "      <div>\n",
              "<style scoped>\n",
              "    .dataframe tbody tr th:only-of-type {\n",
              "        vertical-align: middle;\n",
              "    }\n",
              "\n",
              "    .dataframe tbody tr th {\n",
              "        vertical-align: top;\n",
              "    }\n",
              "\n",
              "    .dataframe thead th {\n",
              "        text-align: right;\n",
              "    }\n",
              "</style>\n",
              "<table border=\"1\" class=\"dataframe\">\n",
              "  <thead>\n",
              "    <tr style=\"text-align: right;\">\n",
              "      <th></th>\n",
              "      <th>width</th>\n",
              "      <th>engine_size</th>\n",
              "      <th>price</th>\n",
              "    </tr>\n",
              "  </thead>\n",
              "  <tbody>\n",
              "    <tr>\n",
              "      <th>width</th>\n",
              "      <td>1.000000</td>\n",
              "      <td>0.729436</td>\n",
              "      <td>0.751265</td>\n",
              "    </tr>\n",
              "    <tr>\n",
              "      <th>engine_size</th>\n",
              "      <td>0.729436</td>\n",
              "      <td>1.000000</td>\n",
              "      <td>0.872335</td>\n",
              "    </tr>\n",
              "    <tr>\n",
              "      <th>price</th>\n",
              "      <td>0.751265</td>\n",
              "      <td>0.872335</td>\n",
              "      <td>1.000000</td>\n",
              "    </tr>\n",
              "  </tbody>\n",
              "</table>\n",
              "</div>\n",
              "      <button class=\"colab-df-convert\" onclick=\"convertToInteractive('df-3384ea68-1353-4ab2-9af3-bc139140564d')\"\n",
              "              title=\"Convert this dataframe to an interactive table.\"\n",
              "              style=\"display:none;\">\n",
              "        \n",
              "  <svg xmlns=\"http://www.w3.org/2000/svg\" height=\"24px\"viewBox=\"0 0 24 24\"\n",
              "       width=\"24px\">\n",
              "    <path d=\"M0 0h24v24H0V0z\" fill=\"none\"/>\n",
              "    <path d=\"M18.56 5.44l.94 2.06.94-2.06 2.06-.94-2.06-.94-.94-2.06-.94 2.06-2.06.94zm-11 1L8.5 8.5l.94-2.06 2.06-.94-2.06-.94L8.5 2.5l-.94 2.06-2.06.94zm10 10l.94 2.06.94-2.06 2.06-.94-2.06-.94-.94-2.06-.94 2.06-2.06.94z\"/><path d=\"M17.41 7.96l-1.37-1.37c-.4-.4-.92-.59-1.43-.59-.52 0-1.04.2-1.43.59L10.3 9.45l-7.72 7.72c-.78.78-.78 2.05 0 2.83L4 21.41c.39.39.9.59 1.41.59.51 0 1.02-.2 1.41-.59l7.78-7.78 2.81-2.81c.8-.78.8-2.07 0-2.86zM5.41 20L4 18.59l7.72-7.72 1.47 1.35L5.41 20z\"/>\n",
              "  </svg>\n",
              "      </button>\n",
              "      \n",
              "  <style>\n",
              "    .colab-df-container {\n",
              "      display:flex;\n",
              "      flex-wrap:wrap;\n",
              "      gap: 12px;\n",
              "    }\n",
              "\n",
              "    .colab-df-convert {\n",
              "      background-color: #E8F0FE;\n",
              "      border: none;\n",
              "      border-radius: 50%;\n",
              "      cursor: pointer;\n",
              "      display: none;\n",
              "      fill: #1967D2;\n",
              "      height: 32px;\n",
              "      padding: 0 0 0 0;\n",
              "      width: 32px;\n",
              "    }\n",
              "\n",
              "    .colab-df-convert:hover {\n",
              "      background-color: #E2EBFA;\n",
              "      box-shadow: 0px 1px 2px rgba(60, 64, 67, 0.3), 0px 1px 3px 1px rgba(60, 64, 67, 0.15);\n",
              "      fill: #174EA6;\n",
              "    }\n",
              "\n",
              "    [theme=dark] .colab-df-convert {\n",
              "      background-color: #3B4455;\n",
              "      fill: #D2E3FC;\n",
              "    }\n",
              "\n",
              "    [theme=dark] .colab-df-convert:hover {\n",
              "      background-color: #434B5C;\n",
              "      box-shadow: 0px 1px 3px 1px rgba(0, 0, 0, 0.15);\n",
              "      filter: drop-shadow(0px 1px 2px rgba(0, 0, 0, 0.3));\n",
              "      fill: #FFFFFF;\n",
              "    }\n",
              "  </style>\n",
              "\n",
              "      <script>\n",
              "        const buttonEl =\n",
              "          document.querySelector('#df-3384ea68-1353-4ab2-9af3-bc139140564d button.colab-df-convert');\n",
              "        buttonEl.style.display =\n",
              "          google.colab.kernel.accessAllowed ? 'block' : 'none';\n",
              "\n",
              "        async function convertToInteractive(key) {\n",
              "          const element = document.querySelector('#df-3384ea68-1353-4ab2-9af3-bc139140564d');\n",
              "          const dataTable =\n",
              "            await google.colab.kernel.invokeFunction('convertToInteractive',\n",
              "                                                     [key], {});\n",
              "          if (!dataTable) return;\n",
              "\n",
              "          const docLinkHtml = 'Like what you see? Visit the ' +\n",
              "            '<a target=\"_blank\" href=https://colab.research.google.com/notebooks/data_table.ipynb>data table notebook</a>'\n",
              "            + ' to learn more about interactive tables.';\n",
              "          element.innerHTML = '';\n",
              "          dataTable['output_type'] = 'display_data';\n",
              "          await google.colab.output.renderOutput(dataTable, element);\n",
              "          const docLink = document.createElement('div');\n",
              "          docLink.innerHTML = docLinkHtml;\n",
              "          element.appendChild(docLink);\n",
              "        }\n",
              "      </script>\n",
              "    </div>\n",
              "  </div>\n",
              "  "
            ]
          },
          "metadata": {},
          "execution_count": 105
        }
      ]
    },
    {
      "cell_type": "code",
      "source": [
        "x = df.drop('price', axis=1)\n",
        "y = df['price']\n",
        "x_train, x_test, y_train, y_test = train_test_split(x, y, test_size=0.3, random_state=0)\n",
        "ss.fit(x_train)\n",
        "x_train=ss.transform(x_train)\n",
        "ss.fit(x_test)\n",
        "x_test=ss.transform(x_test)\n",
        "print(x_train)"
      ],
      "metadata": {
        "colab": {
          "base_uri": "https://localhost:8080/"
        },
        "id": "P8BMvu61gmNU",
        "outputId": "6d2db1dd-81ce-4901-f008-b88af79efb8d"
      },
      "execution_count": 106,
      "outputs": [
        {
          "output_type": "stream",
          "name": "stdout",
          "text": [
            "[[-0.3   -0.135]\n",
            " [-0.155 -0.412]\n",
            " [-1.074 -0.891]\n",
            " [-0.687 -0.689]\n",
            " [-0.977 -0.714]\n",
            " [-0.059 -1.394]\n",
            " [-0.107  0.519]\n",
            " [-0.784 -0.866]\n",
            " [-0.977 -0.714]\n",
            " [-0.204 -0.438]\n",
            " [-0.977 -0.714]\n",
            " [-0.204 -0.438]\n",
            " [ 1.005  1.4  ]\n",
            " [-0.204 -0.438]\n",
            " [-0.977 -0.714]\n",
            " [ 1.247  0.67 ]\n",
            " [ 0.522  2.105]\n",
            " [-0.591 -0.085]\n",
            " [-0.204 -0.438]\n",
            " [ 0.522  0.267]\n",
            " [ 2.311  5.051]\n",
            " [-0.204 -0.438]\n",
            " [ 1.489  0.393]\n",
            " [ 1.247 -0.135]\n",
            " [ 0.135  0.368]\n",
            " [-0.155  0.67 ]\n",
            " [ 0.328 -0.085]\n",
            " [-0.977 -0.438]\n",
            " [ 1.489  1.199]\n",
            " [-0.3   -0.161]\n",
            " [-0.494 -0.438]\n",
            " [ 0.667  0.116]\n",
            " [-0.687 -0.84 ]\n",
            " [ 1.44   0.393]\n",
            " [-0.155 -0.714]\n",
            " [ 0.908  1.149]\n",
            " [ 0.328  0.167]\n",
            " [-0.977 -0.714]\n",
            " [ 1.247 -0.135]\n",
            " [-0.687 -0.689]\n",
            " [ 0.667  0.393]\n",
            " [-0.784 -0.866]\n",
            " [-0.832  0.116]\n",
            " [-0.977 -0.714]\n",
            " [ 1.247 -0.135]\n",
            " [-0.977 -0.714]\n",
            " [ 2.166  1.451]\n",
            " [-0.107  0.519]\n",
            " [ 0.086 -0.387]\n",
            " [ 2.262  2.735]\n",
            " [-0.784 -0.866]\n",
            " [-0.784 -0.866]\n",
            " [-0.204 -0.387]\n",
            " [ 0.522  0.972]\n",
            " [-0.881 -0.689]\n",
            " [-0.977 -0.891]\n",
            " [-0.881 -0.412]\n",
            " [-1.074 -0.438]\n",
            " [-0.977 -0.891]\n",
            " [ 1.005  2.105]\n",
            " [-0.204 -0.085]\n",
            " [ 1.247 -0.135]\n",
            " [-0.059 -1.394]\n",
            " [ 0.328  1.4  ]\n",
            " [-0.977 -0.689]\n",
            " [ 0.183 -0.412]\n",
            " [-0.977 -0.689]\n",
            " [-0.107  0.519]\n",
            " [ 1.489  0.494]\n",
            " [ 2.697  0.267]\n",
            " [ 2.843  2.735]\n",
            " [-0.204 -0.387]\n",
            " [ 0.231  0.771]\n",
            " [-0.687 -0.387]\n",
            " [ 0.328 -0.085]\n",
            " [-0.687 -0.689]\n",
            " [-0.977 -0.714]\n",
            " [ 1.489  0.393]\n",
            " [-0.494  0.972]\n",
            " [-0.977 -0.689]\n",
            " [ 1.005  1.4  ]\n",
            " [-0.929 -0.84 ]\n",
            " [ 0.328 -0.085]\n",
            " [ 2.166  1.451]\n",
            " [-0.832  0.116]\n",
            " [-0.591 -0.085]\n",
            " [-0.881 -0.689]\n",
            " [-1.945 -0.362]\n",
            " [ 1.247  0.67 ]\n",
            " [ 0.328 -0.11 ]\n",
            " [ 0.328 -0.085]\n",
            " [-2.67  -1.621]\n",
            " [-0.3   -0.387]\n",
            " [ 0.328 -0.11 ]\n",
            " [-0.059 -1.394]\n",
            " [-0.687 -0.689]\n",
            " [ 0.328 -0.11 ]\n",
            " [-0.881 -0.84 ]\n",
            " [ 0.231  0.771]\n",
            " [ 1.198  0.217]\n",
            " [-1.074 -0.84 ]\n",
            " [-0.881 -1.168]\n",
            " [-0.107  0.519]\n",
            " [ 0.376  0.167]\n",
            " [ 0.328  1.149]\n",
            " [-0.881 -0.84 ]\n",
            " [-0.204 -0.438]\n",
            " [ 0.328 -0.085]\n",
            " [-1.074 -0.84 ]\n",
            " [-0.929 -0.84 ]\n",
            " [ 0.328  1.4  ]\n",
            " [-0.204 -0.085]\n",
            " [ 0.231  0.771]\n",
            " [-0.977 -0.891]\n",
            " [-1.074 -0.84 ]\n",
            " [ 0.667  0.393]\n",
            " [ 1.053  0.368]\n",
            " [-0.204 -0.387]\n",
            " [-0.977 -0.891]\n",
            " [-0.107  0.519]\n",
            " [ 0.231  0.771]\n",
            " [ 0.522 -0.714]\n",
            " [ 0.908  1.149]\n",
            " [ 0.667  0.393]\n",
            " [-1.606 -0.387]\n",
            " [ 0.328 -0.085]\n",
            " [-0.204 -0.438]\n",
            " [-0.977 -0.714]\n",
            " [ 2.843  4.598]\n",
            " [-0.977 -0.563]\n",
            " [-0.3   -0.387]\n",
            " [-0.977 -0.891]\n",
            " [-0.494 -0.438]\n",
            " [ 1.005  1.4  ]\n",
            " [ 0.667  0.116]\n",
            " [ 2.843  1.451]\n",
            " [ 0.667  0.393]\n",
            " [-0.977 -0.891]\n",
            " [-0.784 -0.866]\n",
            " [ 0.328 -0.085]]\n"
          ]
        }
      ]
    },
    {
      "cell_type": "code",
      "source": [
        "model=LinearRegression()\n",
        "model.fit(x_train,y_train)\n",
        "print('訓練データに対する決定係数：', model.score(x_train, y_train))\n",
        "print('テストデータに対する決定係数：', model.score(x_test, y_test))"
      ],
      "metadata": {
        "colab": {
          "base_uri": "https://localhost:8080/"
        },
        "id": "dI3zSCighDll",
        "outputId": "4f8e5337-7a21-447c-daae-1b2c42d3e137"
      },
      "execution_count": 107,
      "outputs": [
        {
          "output_type": "stream",
          "name": "stdout",
          "text": [
            "訓練データに対する決定係数： 0.7834508035929952\n",
            "テストデータに対する決定係数： 0.6972739633127203\n"
          ]
        }
      ]
    },
    {
      "cell_type": "code",
      "source": [
        "pd.Series(model.coef_, index=x.columns)"
      ],
      "metadata": {
        "id": "y8ErewCAhGjE"
      },
      "execution_count": null,
      "outputs": []
    },
    {
      "cell_type": "markdown",
      "source": [
        "# 4. 知識応用（発展課題）"
      ],
      "metadata": {
        "id": "GFU_mvalZ-mt"
      }
    },
    {
      "cell_type": "markdown",
      "source": [
        "【問題】目的変数を「price」、説明変数を「各自で設定」として、決定係数が大きくなるように重回帰分析を実行し、決定係数を求めよ。また、その結果を考察せよ。"
      ],
      "metadata": {
        "id": "9pclu32maad_"
      }
    },
    {
      "cell_type": "code",
      "execution_count": 108,
      "metadata": {
        "id": "Gb8J_PGM8cIa",
        "colab": {
          "base_uri": "https://localhost:8080/"
        },
        "outputId": "5ce68bf5-10d2-42dc-a604-5c8b9347b48b"
      },
      "outputs": [
        {
          "output_type": "stream",
          "name": "stdout",
          "text": [
            "    num_of_doors  length horsepower  price\n",
            "0            two   168.8        111  13495\n",
            "1            two   168.8        111  16500\n",
            "2            two   171.2        154  16500\n",
            "3           four   176.6        102  13950\n",
            "4           four   176.6        115  17450\n",
            "..           ...     ...        ...    ...\n",
            "200         four   188.8        114  16845\n",
            "201         four   188.8        160  19045\n",
            "202         four   188.8        134  21485\n",
            "203         four   188.8        106  22470\n",
            "204         four   188.8        114  22625\n",
            "\n",
            "[205 rows x 4 columns]\n",
            "     num_of_doors  length horsepower  price\n",
            "0             2.0   168.8        111  13495\n",
            "1             2.0   168.8        111  16500\n",
            "2             2.0   171.2        154  16500\n",
            "3             4.0   176.6        102  13950\n",
            "4             4.0   176.6        115  17450\n",
            "..            ...     ...        ...    ...\n",
            "200           4.0   188.8        114  16845\n",
            "201           4.0   188.8        160  19045\n",
            "202           4.0   188.8        134  21485\n",
            "203           4.0   188.8        106  22470\n",
            "204           4.0   188.8        114  22625\n",
            "\n",
            "[197 rows x 4 columns]\n"
          ]
        },
        {
          "output_type": "execute_result",
          "data": {
            "text/plain": [
              "num_of_doors    float64\n",
              "length          float64\n",
              "horsepower       object\n",
              "price            object\n",
              "dtype: object"
            ]
          },
          "metadata": {},
          "execution_count": 108
        }
      ],
      "source": [
        "# セルは必要に応じて追加して下さい。\n",
        "df = pd.read_csv('autos_data.csv')\n",
        "df = df[[\"num_of_doors\",\"length\",\"horsepower\",\"price\"]]\n",
        "print(df)\n",
        "df = df.replace('two',2)\n",
        "df = df.replace('four',4)\n",
        "df = df.replace('?', np.nan).dropna()\n",
        "print(df)\n",
        "df.dtypes"
      ]
    },
    {
      "cell_type": "code",
      "source": [
        "df = df.assign(price=pd.to_numeric(df.price))\n",
        "df = df.assign(horsepower=pd.to_numeric(df.horsepower))\n",
        "df.dtypes"
      ],
      "metadata": {
        "colab": {
          "base_uri": "https://localhost:8080/"
        },
        "id": "LbbDeSFu4sRK",
        "outputId": "bcf14f7d-b118-42d5-8bd3-42cf3be172a1"
      },
      "execution_count": 109,
      "outputs": [
        {
          "output_type": "execute_result",
          "data": {
            "text/plain": [
              "num_of_doors    float64\n",
              "length          float64\n",
              "horsepower        int64\n",
              "price             int64\n",
              "dtype: object"
            ]
          },
          "metadata": {},
          "execution_count": 109
        }
      ]
    },
    {
      "cell_type": "code",
      "source": [
        "df.corr()"
      ],
      "metadata": {
        "colab": {
          "base_uri": "https://localhost:8080/",
          "height": 175
        },
        "id": "FToZ4XTu5PnR",
        "outputId": "2578d154-3f67-44ec-b400-6e15627cebb4"
      },
      "execution_count": 110,
      "outputs": [
        {
          "output_type": "execute_result",
          "data": {
            "text/plain": [
              "              num_of_doors    length  horsepower     price\n",
              "num_of_doors      1.000000  0.404454   -0.099274  0.046571\n",
              "length            0.404454  1.000000    0.586110  0.694556\n",
              "horsepower       -0.099274  0.586110    1.000000  0.811953\n",
              "price             0.046571  0.694556    0.811953  1.000000"
            ],
            "text/html": [
              "\n",
              "  <div id=\"df-e52222a4-c82e-451e-8b33-66d3b4e9678c\">\n",
              "    <div class=\"colab-df-container\">\n",
              "      <div>\n",
              "<style scoped>\n",
              "    .dataframe tbody tr th:only-of-type {\n",
              "        vertical-align: middle;\n",
              "    }\n",
              "\n",
              "    .dataframe tbody tr th {\n",
              "        vertical-align: top;\n",
              "    }\n",
              "\n",
              "    .dataframe thead th {\n",
              "        text-align: right;\n",
              "    }\n",
              "</style>\n",
              "<table border=\"1\" class=\"dataframe\">\n",
              "  <thead>\n",
              "    <tr style=\"text-align: right;\">\n",
              "      <th></th>\n",
              "      <th>num_of_doors</th>\n",
              "      <th>length</th>\n",
              "      <th>horsepower</th>\n",
              "      <th>price</th>\n",
              "    </tr>\n",
              "  </thead>\n",
              "  <tbody>\n",
              "    <tr>\n",
              "      <th>num_of_doors</th>\n",
              "      <td>1.000000</td>\n",
              "      <td>0.404454</td>\n",
              "      <td>-0.099274</td>\n",
              "      <td>0.046571</td>\n",
              "    </tr>\n",
              "    <tr>\n",
              "      <th>length</th>\n",
              "      <td>0.404454</td>\n",
              "      <td>1.000000</td>\n",
              "      <td>0.586110</td>\n",
              "      <td>0.694556</td>\n",
              "    </tr>\n",
              "    <tr>\n",
              "      <th>horsepower</th>\n",
              "      <td>-0.099274</td>\n",
              "      <td>0.586110</td>\n",
              "      <td>1.000000</td>\n",
              "      <td>0.811953</td>\n",
              "    </tr>\n",
              "    <tr>\n",
              "      <th>price</th>\n",
              "      <td>0.046571</td>\n",
              "      <td>0.694556</td>\n",
              "      <td>0.811953</td>\n",
              "      <td>1.000000</td>\n",
              "    </tr>\n",
              "  </tbody>\n",
              "</table>\n",
              "</div>\n",
              "      <button class=\"colab-df-convert\" onclick=\"convertToInteractive('df-e52222a4-c82e-451e-8b33-66d3b4e9678c')\"\n",
              "              title=\"Convert this dataframe to an interactive table.\"\n",
              "              style=\"display:none;\">\n",
              "        \n",
              "  <svg xmlns=\"http://www.w3.org/2000/svg\" height=\"24px\"viewBox=\"0 0 24 24\"\n",
              "       width=\"24px\">\n",
              "    <path d=\"M0 0h24v24H0V0z\" fill=\"none\"/>\n",
              "    <path d=\"M18.56 5.44l.94 2.06.94-2.06 2.06-.94-2.06-.94-.94-2.06-.94 2.06-2.06.94zm-11 1L8.5 8.5l.94-2.06 2.06-.94-2.06-.94L8.5 2.5l-.94 2.06-2.06.94zm10 10l.94 2.06.94-2.06 2.06-.94-2.06-.94-.94-2.06-.94 2.06-2.06.94z\"/><path d=\"M17.41 7.96l-1.37-1.37c-.4-.4-.92-.59-1.43-.59-.52 0-1.04.2-1.43.59L10.3 9.45l-7.72 7.72c-.78.78-.78 2.05 0 2.83L4 21.41c.39.39.9.59 1.41.59.51 0 1.02-.2 1.41-.59l7.78-7.78 2.81-2.81c.8-.78.8-2.07 0-2.86zM5.41 20L4 18.59l7.72-7.72 1.47 1.35L5.41 20z\"/>\n",
              "  </svg>\n",
              "      </button>\n",
              "      \n",
              "  <style>\n",
              "    .colab-df-container {\n",
              "      display:flex;\n",
              "      flex-wrap:wrap;\n",
              "      gap: 12px;\n",
              "    }\n",
              "\n",
              "    .colab-df-convert {\n",
              "      background-color: #E8F0FE;\n",
              "      border: none;\n",
              "      border-radius: 50%;\n",
              "      cursor: pointer;\n",
              "      display: none;\n",
              "      fill: #1967D2;\n",
              "      height: 32px;\n",
              "      padding: 0 0 0 0;\n",
              "      width: 32px;\n",
              "    }\n",
              "\n",
              "    .colab-df-convert:hover {\n",
              "      background-color: #E2EBFA;\n",
              "      box-shadow: 0px 1px 2px rgba(60, 64, 67, 0.3), 0px 1px 3px 1px rgba(60, 64, 67, 0.15);\n",
              "      fill: #174EA6;\n",
              "    }\n",
              "\n",
              "    [theme=dark] .colab-df-convert {\n",
              "      background-color: #3B4455;\n",
              "      fill: #D2E3FC;\n",
              "    }\n",
              "\n",
              "    [theme=dark] .colab-df-convert:hover {\n",
              "      background-color: #434B5C;\n",
              "      box-shadow: 0px 1px 3px 1px rgba(0, 0, 0, 0.15);\n",
              "      filter: drop-shadow(0px 1px 2px rgba(0, 0, 0, 0.3));\n",
              "      fill: #FFFFFF;\n",
              "    }\n",
              "  </style>\n",
              "\n",
              "      <script>\n",
              "        const buttonEl =\n",
              "          document.querySelector('#df-e52222a4-c82e-451e-8b33-66d3b4e9678c button.colab-df-convert');\n",
              "        buttonEl.style.display =\n",
              "          google.colab.kernel.accessAllowed ? 'block' : 'none';\n",
              "\n",
              "        async function convertToInteractive(key) {\n",
              "          const element = document.querySelector('#df-e52222a4-c82e-451e-8b33-66d3b4e9678c');\n",
              "          const dataTable =\n",
              "            await google.colab.kernel.invokeFunction('convertToInteractive',\n",
              "                                                     [key], {});\n",
              "          if (!dataTable) return;\n",
              "\n",
              "          const docLinkHtml = 'Like what you see? Visit the ' +\n",
              "            '<a target=\"_blank\" href=https://colab.research.google.com/notebooks/data_table.ipynb>data table notebook</a>'\n",
              "            + ' to learn more about interactive tables.';\n",
              "          element.innerHTML = '';\n",
              "          dataTable['output_type'] = 'display_data';\n",
              "          await google.colab.output.renderOutput(dataTable, element);\n",
              "          const docLink = document.createElement('div');\n",
              "          docLink.innerHTML = docLinkHtml;\n",
              "          element.appendChild(docLink);\n",
              "        }\n",
              "      </script>\n",
              "    </div>\n",
              "  </div>\n",
              "  "
            ]
          },
          "metadata": {},
          "execution_count": 110
        }
      ]
    },
    {
      "cell_type": "code",
      "source": [
        "x = df.drop('price', axis=1)\n",
        "y = df['price']\n",
        "x_train, x_test, y_train, y_test = train_test_split(x, y, test_size=0.8, random_state=0)\n",
        "ss.fit(x_train)\n",
        "x_train=ss.transform(x_train)\n",
        "ss.fit(x_test)\n",
        "x_test=ss.transform(x_test)"
      ],
      "metadata": {
        "id": "oMHXBoLA4xZB"
      },
      "execution_count": 111,
      "outputs": []
    },
    {
      "cell_type": "code",
      "source": [
        "model=LinearRegression()\n",
        "model.fit(x_train,y_train)\n",
        "print('訓練データに対する決定係数：', model.score(x_train, y_train))\n",
        "print('テストデータに対する決定係数：', model.score(x_test, y_test))"
      ],
      "metadata": {
        "colab": {
          "base_uri": "https://localhost:8080/"
        },
        "id": "oo_el6bI44uY",
        "outputId": "db63fb36-79ea-4560-c603-56f4b90fcbb5"
      },
      "execution_count": 112,
      "outputs": [
        {
          "output_type": "stream",
          "name": "stdout",
          "text": [
            "訓練データに対する決定係数： 0.6710000233941398\n",
            "テストデータに対する決定係数： 0.5172369180997686\n"
          ]
        }
      ]
    },
    {
      "cell_type": "markdown",
      "source": [
        "考察：訓練データの決定係数が0.67とやや低く、また、決定係数の差が大きいため、学習がやや離れているため、過学習の傾向が若干見られる。\n",
        "説明変数と目的変数の相関係数がドアの数で大きく異なっていることが原因"
      ],
      "metadata": {
        "id": "chp-Sw1xNoZJ"
      }
    },
    {
      "cell_type": "markdown",
      "source": [
        "# 5. 模範解答"
      ],
      "metadata": {
        "id": "HEylIX1-gEf9"
      }
    },
    {
      "cell_type": "markdown",
      "source": [
        "```\n",
        "# コード1（模範解答は最下部）\n",
        "# csv ファイルを pandas の DataFrame オブジェクト df として読み込み\n",
        "df = pd.read_csv('autos_data.csv')\n",
        "```\n",
        "\n",
        "```\n",
        "# コード2（模範解答は最下部）\n",
        "# df を表示\n",
        "df\n",
        "```\n",
        "\n",
        "```\n",
        "# コード3（模範解答は最下部）\n",
        "# 4 つのカラム「horsepower」、「width」、「height」、「price」以外を削除\n",
        "df = df[['price', 'horsepower', 'width', 'height']]\n",
        "\n",
        "# df を表示（確認）\n",
        "df\n",
        "```\n",
        "\n",
        "```\n",
        "# コード4（模範解答は最下部）\n",
        "# df のデータ型の確認\n",
        "df.dtypes\n",
        "```\n",
        "\n",
        "```\n",
        "# コード5（模範解答は最下部）\n",
        "# 各カラム（列）同士の相関係数の計算\n",
        "df.corr()\n",
        "```\n",
        "\n",
        "```\n",
        "# コード6（模範解答は最下部）\n",
        "# データを標準化するライブラリのインポート\n",
        "from sklearn import preprocessing\n",
        "\n",
        "# x_train を標準化し x_train に格納\n",
        "ss = preprocessing.StandardScaler()\n",
        "ss.fit(x_train)\n",
        "x_train = ss.transform(x_train)\n",
        "\n",
        "# x_test を標準化し x_test に格納\n",
        "x_test= ss.transform(x_test)\n",
        "\n",
        "# x_train を表示\n",
        "x_train\n",
        "```\n",
        "\n",
        "```\n",
        "# コード7（模範解答は最下部）\n",
        "# モデルの初期化と学習\n",
        "model = LinearRegression()\n",
        "model.fit(x_train, y_train)\n",
        "```"
      ],
      "metadata": {
        "id": "ef4Hm850oDFi"
      }
    }
  ]
}